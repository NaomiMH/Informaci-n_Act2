{
  "nbformat": 4,
  "nbformat_minor": 0,
  "metadata": {
    "colab": {
      "name": "Comments_Reddit.ipynb",
      "provenance": []
    },
    "kernelspec": {
      "name": "python3",
      "display_name": "Python 3"
    },
    "language_info": {
      "name": "python"
    }
  },
  "cells": [
    {
      "cell_type": "code",
      "metadata": {
        "colab": {
          "base_uri": "https://localhost:8080/"
        },
        "id": "mon1a3gYuxqP",
        "outputId": "cb83e596-eb0c-43ea-bc50-053e8b92ced8"
      },
      "source": [
        "!pip install -q praw"
      ],
      "execution_count": null,
      "outputs": [
        {
          "output_type": "stream",
          "text": [
            "\u001b[K     |████████████████████████████████| 165 kB 4.3 MB/s \n",
            "\u001b[K     |████████████████████████████████| 68 kB 3.8 MB/s \n",
            "\u001b[?25h"
          ],
          "name": "stdout"
        }
      ]
    },
    {
      "cell_type": "code",
      "metadata": {
        "id": "-TK8sM-2s9RI"
      },
      "source": [
        "import praw\n",
        "import pandas as pd\n",
        "import datetime as dt"
      ],
      "execution_count": null,
      "outputs": []
    },
    {
      "cell_type": "code",
      "metadata": {
        "id": "Q23moCU2wJq1"
      },
      "source": [
        "topics_data.head(10)"
      ],
      "execution_count": null,
      "outputs": []
    },
    {
      "cell_type": "code",
      "metadata": {
        "id": "CbZp0K0xwL_O"
      },
      "source": [
        "def get_date(created):\n",
        "    return dt.datetime.fromtimestamp(created)"
      ],
      "execution_count": null,
      "outputs": []
    },
    {
      "cell_type": "code",
      "metadata": {
        "id": "0LrC-6MBwqm6"
      },
      "source": [
        "_timestamp = topics_data[\"created\"].apply(get_date)"
      ],
      "execution_count": null,
      "outputs": []
    },
    {
      "cell_type": "code",
      "metadata": {
        "id": "s64Vf0tjxbZ8"
      },
      "source": [
        "topics_data = topics_data.assign(timestamp = _timestamp)"
      ],
      "execution_count": null,
      "outputs": []
    },
    {
      "cell_type": "code",
      "metadata": {
        "id": "pAqpINyuxdMy"
      },
      "source": [
        "topics_data"
      ],
      "execution_count": null,
      "outputs": []
    },
    {
      "cell_type": "code",
      "metadata": {
        "id": "L3H1HYeZxfAt"
      },
      "source": [
        "posts = topics_data.title"
      ],
      "execution_count": null,
      "outputs": []
    },
    {
      "cell_type": "code",
      "metadata": {
        "id": "DLbiY05QyKYX"
      },
      "source": [
        "array=[]\n",
        "for post in posts:\n",
        "  array.append(post)"
      ],
      "execution_count": null,
      "outputs": []
    },
    {
      "cell_type": "code",
      "metadata": {
        "id": "ZQgaE4LvyjKH"
      },
      "source": [
        "import enchant "
      ],
      "execution_count": null,
      "outputs": []
    },
    {
      "cell_type": "code",
      "metadata": {
        "id": "obmU0w8m3wDh"
      },
      "source": [
        "client_id='J5HedJeMNRSR9aawRYqFNg'\n",
        "client_secret='gqS8YKtJ0TgY8wgFmOUz39A5-C4ANg'\n",
        "user_agent='Tecnologías de Información Emergente'\n",
        "username='karenzun97'\n",
        "password='VabjHR6AfCD4YT%'"
      ],
      "execution_count": null,
      "outputs": []
    },
    {
      "cell_type": "code",
      "metadata": {
        "colab": {
          "base_uri": "https://localhost:8080/"
        },
        "id": "Qw2tdPYZ3F-4",
        "outputId": "d9ccfe38-d4a3-458d-d097-672446e5bb06"
      },
      "source": [
        "!pip install pyenchant"
      ],
      "execution_count": null,
      "outputs": [
        {
          "output_type": "stream",
          "text": [
            "Requirement already satisfied: pyenchant in /usr/local/lib/python3.7/dist-packages (3.2.1)\n"
          ],
          "name": "stdout"
        }
      ]
    },
    {
      "cell_type": "code",
      "metadata": {
        "id": "XHKayzn43UUJ"
      },
      "source": [
        "url = \"https://www.reddit.com/r/Coronavirus/comments/ons8um/twitter_suspends_marjorie_taylor_greene_for/\"\n",
        "submission = reddit.submission(url=url)"
      ],
      "execution_count": null,
      "outputs": []
    },
    {
      "cell_type": "code",
      "metadata": {
        "id": "mJi_mXlc3o_E"
      },
      "source": [
        "submission = reddit.submission(id=\"ons8um\")"
      ],
      "execution_count": null,
      "outputs": []
    },
    {
      "cell_type": "code",
      "metadata": {
        "colab": {
          "base_uri": "https://localhost:8080/"
        },
        "id": "5uUXgsGrAV78",
        "outputId": "d9800a9e-36c3-47ef-f8b2-1c5196cecc82"
      },
      "source": [
        "for comment in submission.comments.list():\n",
        "    print(comment.body)"
      ],
      "execution_count": null,
      "outputs": [
        {
          "output_type": "stream",
          "text": [
            "It appears that you are using PRAW in an asynchronous environment.\n",
            "It is strongly recommended to use Async PRAW: https://asyncpraw.readthedocs.io.\n",
            "See https://praw.readthedocs.io/en/latest/getting_started/multiple_instances.html#discord-bots-and-asynchronous-environments for more info.\n",
            "\n"
          ],
          "name": "stderr"
        },
        {
          "output_type": "stream",
          "text": [
            "This post is now locked for repeated rule-breaking comments. Please take this time to review our [sub rules](https://www.reddit.com/r/Coronavirus/wiki/rules).\n",
            "[removed]\n",
            "They need to just ban her permanently.  She keeps comparing getting vaccinated to the holocaust.\n",
            "Finally!\n",
            "\n",
            "What i don't yet understand is...what do they gain by denying science?  It's got to be more than pandering.\n",
            "The bottomless pit of bullshit.\n",
            "How about suspending her for being a horrible person and traitor?\n",
            "What did she say?\n",
            "Ban her permanently. She’s going to be an obnoxious repeat offender so just do it now and save us from the poison she spews\n",
            "For 12 hours. Lol fuck Twitter. Ban her for good\n",
            "I could still fathom how GOP could be against lockdowns and mask mandates at worst but I still haven’t understood the anti-vax sentiment. Trump literally was trying to get credit for the vaccines. Heck in November and December the Democrats were criticizing Trump for pushing the vaccine ahead for his political agenda and said they wouldn’t take the vaccine. I don’t even know how did the GOP become so anti-vax. Anti-vaccine is one of the few movements that didn’t actually begin from the right and they have coopted that too\n",
            "12 hour only? Ban forever.  Goes to show that shit doesn’t sink.\n",
            "Should have happened a long time ago.\n",
            "\n",
            "Great that they did it, but MTG was posting misinformation on COVID pretty much since the beginning of the pandemic. Why did it take this long to take action? Twitter is just as complicit in the vaccine hesitancy problem.\n",
            "ThEyRe CeNsOrInG uS!!!\n",
            "\n",
            "-buy your freedom phone here\n",
            "Jesus Christ like every single comment on here got removed… what the fuck happened\n",
            "I don't really like the precedent of Twitter being able to do this, although I get what she is doing is harmful.  Who is here to police Twitter?  Sure it's a private company, but all of its content is created by the public.\n",
            "[removed]\n",
            "[removed]\n",
            "[removed]\n",
            "[removed]\n",
            "[removed]\n",
            "Love it every time.\n",
            "You got me\n",
            "Only 12 hour ban sadly\n",
            "I think the objective is to destroy trust in government. It is easier to manipulate people when they're full of doubts and fear. The Republicans want to weaken government so that corporations can run things to suit them.\n",
            "> what do they gain by denying science?\n",
            "\n",
            "Votes.  Plain and simple.  \n",
            "\n",
            "But that's really a discussion for [another sub](https://www.cnet.com/tech/services-and-software/marjorie-taylor-greene-suspended-from-twitter-for-posting-coronavirus-misinformation/).\n",
            "They keep their voting base angry and perpetual victims with endless suffering and grievances. Kids will be taught “the truth” about who was responsible for mom or dad or grandpa losing the family business and dying as a hero “standing up” to a corrupt government and all that BS.. It’s the lost cause of the confederacy but for covid\n",
            "Grift. Sadly, their coffers are pretty full.\n",
            "[removed]\n",
            "A seat in Congress.\n",
            "Oh, they found the bottom of the bottomless pit of bullshit and asked for an excavator.\n",
            "[deleted]\n",
            "Yeah I see no reason she would get a 12 hour ban and Trump is permabanned.\n",
            "Your comment has been removed because\n",
            "\n",
            "* **Purely political posts and comments will be removed.** Political discussions can easily come to dominate online discussions. Therefore we remove political posts and comments and lock comments on borderline posts. ([More Information](https://www.reddit.com/r/Coronavirus/wiki/rules#wiki_rule_4.3A_avoid_politics))\n",
            "\n",
            "*I am a bot, and this action was performed automatically. Please [contact the moderators of this subreddit](/message/compose/?to=/r/Coronavirus) if you have any questions or concerns.*\n",
            "Your comment has been removed because\n",
            "\n",
            "* **Incivility isn’t allowed on this sub.** We want to encourage a respectful discussion. ([More Information](https://www.reddit.com/r/Coronavirus/wiki/rules#wiki_rule_1.3A_be_civil))\n",
            "\n",
            "*I am a bot, and this action was performed automatically. Please [contact the moderators of this subreddit](/message/compose/?to=/r/Coronavirus) if you have any questions or concerns.*\n",
            "Your comment has been removed because\n",
            "\n",
            "* **Purely political posts and comments will be removed.** Political discussions can easily come to dominate online discussions. Therefore we remove political posts and comments and lock comments on borderline posts. ([More Information](https://www.reddit.com/r/Coronavirus/wiki/rules#wiki_rule_4.3A_avoid_politics))\n",
            "\n",
            "*I am a bot, and this action was performed automatically. Please [contact the moderators of this subreddit](/message/compose/?to=/r/Coronavirus) if you have any questions or concerns.*\n",
            "Your comment has been removed because\n",
            "\n",
            "* **Purely political posts and comments will be removed.** Political discussions can easily come to dominate online discussions. Therefore we remove political posts and comments and lock comments on borderline posts. ([More Information](https://www.reddit.com/r/Coronavirus/wiki/rules#wiki_rule_4.3A_avoid_politics))\n",
            "\n",
            "*I am a bot, and this action was performed automatically. Please [contact the moderators of this subreddit](/message/compose/?to=/r/Coronavirus) if you have any questions or concerns.*\n",
            "Your comment has been removed because\n",
            "\n",
            "* **Purely political posts and comments will be removed.** Political discussions can easily come to dominate online discussions. Therefore we remove political posts and comments and lock comments on borderline posts. ([More Information](https://www.reddit.com/r/Coronavirus/wiki/rules#wiki_rule_4.3A_avoid_politics))\n",
            "\n",
            "*I am a bot, and this action was performed automatically. Please [contact the moderators of this subreddit](/message/compose/?to=/r/Coronavirus) if you have any questions or concerns.*\n",
            "But it also adds a precedent so repeat offenses might result in longer suspensions\n",
            "They're 100% focused on midterms and building momentum. MTGs comments that Trump is not coming back in August cements that.\n",
            "But I think corporations realize they need a functioning government as well. So what is the endgame here?\n",
            "I don't understand how you're going to get votes if they're dead. Edit: oh wait.\n",
            "Your comment has been removed because\n",
            "\n",
            "* **Purely political posts and comments will be removed.** Political discussions can easily come to dominate online discussions. Therefore we remove political posts and comments and lock comments on borderline posts. ([More Information](https://www.reddit.com/r/Coronavirus/wiki/rules#wiki_rule_4.3A_avoid_politics))\n",
            "\n",
            "*I am a bot, and this action was performed automatically. Please [contact the moderators of this subreddit](/message/compose/?to=/r/Coronavirus) if you have any questions or concerns.*\n",
            "how so?\n",
            "Her account is back up tho\n",
            "It’s not her first.\n",
            "Hope so\n",
            "Profit.\n",
            "I don't think that at all. No government no clean air regulations, no consumer protection, no work safety, no protected public lands, no accounting reviews, no taxes. No, the corporations want as little government as possible.\n",
            "Not really.\n"
          ],
          "name": "stdout"
        }
      ]
    },
    {
      "cell_type": "code",
      "metadata": {
        "colab": {
          "base_uri": "https://localhost:8080/"
        },
        "id": "gaJJccuY6eKF",
        "outputId": "6a77d2d1-5c76-44df-a53a-7fac0c456424"
      },
      "source": [
        "comments=[]\n",
        "for top_level_comment in submission.comments:\n",
        "  comments.append(top_level_comment.body)\n",
        "  print(top_level_comment.body)"
      ],
      "execution_count": null,
      "outputs": [
        {
          "output_type": "stream",
          "text": [
            "This post is now locked for repeated rule-breaking comments. Please take this time to review our [sub rules](https://www.reddit.com/r/Coronavirus/wiki/rules).\n",
            "[removed]\n",
            "They need to just ban her permanently.  She keeps comparing getting vaccinated to the holocaust.\n",
            "Finally!\n",
            "\n",
            "What i don't yet understand is...what do they gain by denying science?  It's got to be more than pandering.\n",
            "The bottomless pit of bullshit.\n",
            "How about suspending her for being a horrible person and traitor?\n",
            "What did she say?\n",
            "Ban her permanently. She’s going to be an obnoxious repeat offender so just do it now and save us from the poison she spews\n",
            "For 12 hours. Lol fuck Twitter. Ban her for good\n",
            "I could still fathom how GOP could be against lockdowns and mask mandates at worst but I still haven’t understood the anti-vax sentiment. Trump literally was trying to get credit for the vaccines. Heck in November and December the Democrats were criticizing Trump for pushing the vaccine ahead for his political agenda and said they wouldn’t take the vaccine. I don’t even know how did the GOP become so anti-vax. Anti-vaccine is one of the few movements that didn’t actually begin from the right and they have coopted that too\n",
            "12 hour only? Ban forever.  Goes to show that shit doesn’t sink.\n",
            "Should have happened a long time ago.\n",
            "\n",
            "Great that they did it, but MTG was posting misinformation on COVID pretty much since the beginning of the pandemic. Why did it take this long to take action? Twitter is just as complicit in the vaccine hesitancy problem.\n",
            "ThEyRe CeNsOrInG uS!!!\n",
            "\n",
            "-buy your freedom phone here\n",
            "Jesus Christ like every single comment on here got removed… what the fuck happened\n",
            "I don't really like the precedent of Twitter being able to do this, although I get what she is doing is harmful.  Who is here to police Twitter?  Sure it's a private company, but all of its content is created by the public.\n",
            "[removed]\n",
            "[removed]\n",
            "[removed]\n",
            "[removed]\n",
            "[removed]\n"
          ],
          "name": "stdout"
        }
      ]
    },
    {
      "cell_type": "code",
      "metadata": {
        "colab": {
          "base_uri": "https://localhost:8080/",
          "height": 221
        },
        "id": "HfNUVWrHL2dl",
        "outputId": "c4af969a-2a06-4535-ee24-16a8143197cc"
      },
      "source": [
        "comments_all=[]\n",
        "submission.comments.replace_more(limit=None)\n",
        "for comments in comments_all.comments.list():\n",
        "  comments_all.append(comments.body)"
      ],
      "execution_count": null,
      "outputs": [
        {
          "output_type": "error",
          "ename": "AttributeError",
          "evalue": "ignored",
          "traceback": [
            "\u001b[0;31m---------------------------------------------------------------------------\u001b[0m",
            "\u001b[0;31mAttributeError\u001b[0m                            Traceback (most recent call last)",
            "\u001b[0;32m<ipython-input-422-67cf25d8a31f>\u001b[0m in \u001b[0;36m<module>\u001b[0;34m()\u001b[0m\n\u001b[1;32m      1\u001b[0m \u001b[0mcomments_all\u001b[0m\u001b[0;34m=\u001b[0m\u001b[0;34m[\u001b[0m\u001b[0;34m]\u001b[0m\u001b[0;34m\u001b[0m\u001b[0;34m\u001b[0m\u001b[0m\n\u001b[1;32m      2\u001b[0m \u001b[0msubmission\u001b[0m\u001b[0;34m.\u001b[0m\u001b[0mcomments\u001b[0m\u001b[0;34m.\u001b[0m\u001b[0mreplace_more\u001b[0m\u001b[0;34m(\u001b[0m\u001b[0mlimit\u001b[0m\u001b[0;34m=\u001b[0m\u001b[0;32mNone\u001b[0m\u001b[0;34m)\u001b[0m\u001b[0;34m\u001b[0m\u001b[0;34m\u001b[0m\u001b[0m\n\u001b[0;32m----> 3\u001b[0;31m \u001b[0;32mfor\u001b[0m \u001b[0mcomments\u001b[0m \u001b[0;32min\u001b[0m \u001b[0mcomments_all\u001b[0m\u001b[0;34m.\u001b[0m\u001b[0mcomments\u001b[0m\u001b[0;34m.\u001b[0m\u001b[0mlist\u001b[0m\u001b[0;34m(\u001b[0m\u001b[0;34m)\u001b[0m\u001b[0;34m:\u001b[0m\u001b[0;34m\u001b[0m\u001b[0;34m\u001b[0m\u001b[0m\n\u001b[0m\u001b[1;32m      4\u001b[0m   \u001b[0mcomments_all\u001b[0m\u001b[0;34m.\u001b[0m\u001b[0mappend\u001b[0m\u001b[0;34m(\u001b[0m\u001b[0mcomments\u001b[0m\u001b[0;34m.\u001b[0m\u001b[0mbody\u001b[0m\u001b[0;34m)\u001b[0m\u001b[0;34m\u001b[0m\u001b[0;34m\u001b[0m\u001b[0m\n",
            "\u001b[0;31mAttributeError\u001b[0m: 'list' object has no attribute 'comments'"
          ]
        }
      ]
    },
    {
      "cell_type": "code",
      "metadata": {
        "colab": {
          "base_uri": "https://localhost:8080/"
        },
        "id": "s0tZHCTo6gtG",
        "outputId": "2ffba7c4-c4ed-4549-ef5b-85eed1e7d11a"
      },
      "source": [
        "from praw.models import MoreComments\n",
        "\n",
        "for top_level_comment in submission.comments:\n",
        "    if isinstance(top_level_comment, MoreComments):\n",
        "        continue\n",
        "    print(top_level_comment.body)"
      ],
      "execution_count": null,
      "outputs": [
        {
          "output_type": "stream",
          "text": [
            "This post is now locked for repeated rule-breaking comments. Please take this time to review our [sub rules](https://www.reddit.com/r/Coronavirus/wiki/rules).\n",
            "[removed]\n",
            "They need to just ban her permanently.  She keeps comparing getting vaccinated to the holocaust.\n",
            "Finally!\n",
            "\n",
            "What i don't yet understand is...what do they gain by denying science?  It's got to be more than pandering.\n",
            "The bottomless pit of bullshit.\n",
            "How about suspending her for being a horrible person and traitor?\n",
            "What did she say?\n",
            "Ban her permanently. She’s going to be an obnoxious repeat offender so just do it now and save us from the poison she spews\n",
            "For 12 hours. Lol fuck Twitter. Ban her for good\n",
            "I could still fathom how GOP could be against lockdowns and mask mandates at worst but I still haven’t understood the anti-vax sentiment. Trump literally was trying to get credit for the vaccines. Heck in November and December the Democrats were criticizing Trump for pushing the vaccine ahead for his political agenda and said they wouldn’t take the vaccine. I don’t even know how did the GOP become so anti-vax. Anti-vaccine is one of the few movements that didn’t actually begin from the right and they have coopted that too\n",
            "12 hour only? Ban forever.  Goes to show that shit doesn’t sink.\n",
            "Should have happened a long time ago.\n",
            "\n",
            "Great that they did it, but MTG was posting misinformation on COVID pretty much since the beginning of the pandemic. Why did it take this long to take action? Twitter is just as complicit in the vaccine hesitancy problem.\n",
            "ThEyRe CeNsOrInG uS!!!\n",
            "\n",
            "-buy your freedom phone here\n",
            "Jesus Christ like every single comment on here got removed… what the fuck happened\n",
            "I don't really like the precedent of Twitter being able to do this, although I get what she is doing is harmful.  Who is here to police Twitter?  Sure it's a private company, but all of its content is created by the public.\n",
            "[removed]\n",
            "[removed]\n",
            "[removed]\n",
            "[removed]\n",
            "[removed]\n"
          ],
          "name": "stdout"
        }
      ]
    },
    {
      "cell_type": "code",
      "metadata": {
        "colab": {
          "base_uri": "https://localhost:8080/"
        },
        "id": "B3K-3p8u60uR",
        "outputId": "a19a20a4-ac16-4384-cbd3-b1f639c8f721"
      },
      "source": [
        "submission.comments.replace_more(limit=0)\n",
        "for top_level_comment in submission.comments:\n",
        "    print(top_level_comment.body)"
      ],
      "execution_count": null,
      "outputs": [
        {
          "output_type": "stream",
          "text": [
            "This post is now locked for repeated rule-breaking comments. Please take this time to review our [sub rules](https://www.reddit.com/r/Coronavirus/wiki/rules).\n",
            "[removed]\n",
            "They need to just ban her permanently.  She keeps comparing getting vaccinated to the holocaust.\n",
            "Finally!\n",
            "\n",
            "What i don't yet understand is...what do they gain by denying science?  It's got to be more than pandering.\n",
            "The bottomless pit of bullshit.\n",
            "How about suspending her for being a horrible person and traitor?\n",
            "What did she say?\n",
            "Ban her permanently. She’s going to be an obnoxious repeat offender so just do it now and save us from the poison she spews\n",
            "For 12 hours. Lol fuck Twitter. Ban her for good\n",
            "I could still fathom how GOP could be against lockdowns and mask mandates at worst but I still haven’t understood the anti-vax sentiment. Trump literally was trying to get credit for the vaccines. Heck in November and December the Democrats were criticizing Trump for pushing the vaccine ahead for his political agenda and said they wouldn’t take the vaccine. I don’t even know how did the GOP become so anti-vax. Anti-vaccine is one of the few movements that didn’t actually begin from the right and they have coopted that too\n",
            "12 hour only? Ban forever.  Goes to show that shit doesn’t sink.\n",
            "Should have happened a long time ago.\n",
            "\n",
            "Great that they did it, but MTG was posting misinformation on COVID pretty much since the beginning of the pandemic. Why did it take this long to take action? Twitter is just as complicit in the vaccine hesitancy problem.\n",
            "ThEyRe CeNsOrInG uS!!!\n",
            "\n",
            "-buy your freedom phone here\n",
            "Jesus Christ like every single comment on here got removed… what the fuck happened\n",
            "I don't really like the precedent of Twitter being able to do this, although I get what she is doing is harmful.  Who is here to police Twitter?  Sure it's a private company, but all of its content is created by the public.\n",
            "[removed]\n",
            "[removed]\n",
            "[removed]\n",
            "[removed]\n",
            "[removed]\n"
          ],
          "name": "stdout"
        }
      ]
    },
    {
      "cell_type": "code",
      "metadata": {
        "colab": {
          "base_uri": "https://localhost:8080/"
        },
        "id": "PzgsC7ia7pOl",
        "outputId": "98106ab5-dc06-4d18-f7d4-a663ff0298a2"
      },
      "source": [
        "submission.comments.replace_more(limit=None)\n",
        "for top_level_comment in submission.comments:\n",
        "    print(top_level_comment.body)"
      ],
      "execution_count": null,
      "outputs": [
        {
          "output_type": "stream",
          "text": [
            "This post appears to be about vaccines. We encourage you to read our helpful resources on the COVID-19 vaccines:\n",
            "   \n",
            "[Vaccine FAQ Part I](https://www.reddit.com/r/Coronavirus/wiki/faq#wiki_where_can_i_find_information_about_the_mechanism_and_progress_of_vaccines.3F)\n",
            "\n",
            "[Vaccine FAQ Part II](https://www.reddit.com/r/Coronavirus/comments/mnitdo/vaccine_faq_variants_chronic_conditions_nsaids)\n",
            "\n",
            "[Vaccine appointment finder](https://www.reddit.com/r/Coronavirus/wiki/faq/vaccinefinder)\n",
            "\n",
            "\n",
            "*I am a bot, and this action was performed automatically. Please [contact the moderators of this subreddit](/message/compose/?to=/r/Coronavirus) if you have any questions or concerns.*\n",
            "[removed]\n",
            "Is there a decent way to be able to tell the difference between having Covid/delta with a common cold or allergies?\n",
            "[removed]\n",
            "[removed]\n"
          ],
          "name": "stdout"
        }
      ]
    },
    {
      "cell_type": "code",
      "metadata": {
        "colab": {
          "base_uri": "https://localhost:8080/"
        },
        "id": "DfYjtXSv8gaj",
        "outputId": "ecf4bff8-39eb-4457-e68e-43203a298c67"
      },
      "source": [
        "submission.comments.replace_more(limit=None)\n",
        "for top_level_comment in submission.comments:\n",
        "    for second_level_comment in top_level_comment.replies:\n",
        "        print(second_level_comment.body)"
      ],
      "execution_count": null,
      "outputs": [
        {
          "output_type": "stream",
          "text": [
            "Consult a medical professional, we cannot provide medical advice here.\n",
            "[removed]\n",
            "[removed]\n"
          ],
          "name": "stdout"
        }
      ]
    },
    {
      "cell_type": "code",
      "metadata": {
        "colab": {
          "base_uri": "https://localhost:8080/"
        },
        "id": "ICWmgzzT8jOU",
        "outputId": "a41e39dc-9dc8-4d31-9409-cef9b1d0997d"
      },
      "source": [
        "submission.comments.replace_more(limit=None)\n",
        "comment_queue = submission.comments[:]  # Seed with top-level\n",
        "while comment_queue:\n",
        "    comment = comment_queue.pop(0)\n",
        "    print(comment.body)\n",
        "    comment_queue.extend(comment.replies)"
      ],
      "execution_count": null,
      "outputs": [
        {
          "output_type": "stream",
          "text": [
            "This post appears to be about vaccines. We encourage you to read our helpful resources on the COVID-19 vaccines:\n",
            "   \n",
            "[Vaccine FAQ Part I](https://www.reddit.com/r/Coronavirus/wiki/faq#wiki_where_can_i_find_information_about_the_mechanism_and_progress_of_vaccines.3F)\n",
            "\n",
            "[Vaccine FAQ Part II](https://www.reddit.com/r/Coronavirus/comments/mnitdo/vaccine_faq_variants_chronic_conditions_nsaids)\n",
            "\n",
            "[Vaccine appointment finder](https://www.reddit.com/r/Coronavirus/wiki/faq/vaccinefinder)\n",
            "\n",
            "\n",
            "*I am a bot, and this action was performed automatically. Please [contact the moderators of this subreddit](/message/compose/?to=/r/Coronavirus) if you have any questions or concerns.*\n",
            "[removed]\n",
            "Is there a decent way to be able to tell the difference between having Covid/delta with a common cold or allergies?\n",
            "[removed]\n",
            "[removed]\n",
            "Consult a medical professional, we cannot provide medical advice here.\n",
            "[removed]\n",
            "[removed]\n",
            "[removed]\n",
            "[removed]\n",
            "[removed]\n",
            "[removed]\n",
            "[removed]\n",
            "[removed]\n",
            "[removed]\n",
            "[removed]\n"
          ],
          "name": "stdout"
        }
      ]
    },
    {
      "cell_type": "code",
      "metadata": {
        "id": "1N5p0oSSKxtq"
      },
      "source": [
        ""
      ],
      "execution_count": null,
      "outputs": []
    }
  ]
}