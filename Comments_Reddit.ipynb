{
  "nbformat": 4,
  "nbformat_minor": 0,
  "metadata": {
    "colab": {
      "name": "Comments_Reddit.ipynb",
      "provenance": []
    },
    "kernelspec": {
      "name": "python3",
      "display_name": "Python 3"
    },
    "language_info": {
      "name": "python"
    }
  },
  "cells": [
    {
      "cell_type": "code",
      "metadata": {
        "id": "mon1a3gYuxqP"
      },
      "source": [
        "!pip install -q praw"
      ],
      "execution_count": 14,
      "outputs": []
    },
    {
      "cell_type": "code",
      "metadata": {
        "id": "-TK8sM-2s9RI"
      },
      "source": [
        "import praw\n",
        "import pandas as pd\n",
        "import datetime as dt"
      ],
      "execution_count": 15,
      "outputs": []
    },
    {
      "cell_type": "code",
      "metadata": {
        "id": "obmU0w8m3wDh"
      },
      "source": [
        "client_id='J5HedJeMNRSR9aawRYqFNg'\n",
        "client_secret='gqS8YKtJ0TgY8wgFmOUz39A5-C4ANg'\n",
        "user_agent='Tecnologías de Información Emergente'\n",
        "username='karenzun97'\n",
        "password='VabjHR6AfCD4YT%'"
      ],
      "execution_count": 18,
      "outputs": []
    },
    {
      "cell_type": "code",
      "metadata": {
        "colab": {
          "base_uri": "https://localhost:8080/"
        },
        "id": "Qw2tdPYZ3F-4",
        "outputId": "64b92386-492a-436b-9241-bbe37a652c47"
      },
      "source": [
        "!pip install pyenchant"
      ],
      "execution_count": 19,
      "outputs": [
        {
          "output_type": "stream",
          "text": [
            "Collecting pyenchant\n",
            "  Downloading pyenchant-3.2.1-py3-none-any.whl (55 kB)\n",
            "\u001b[?25l\r\u001b[K     |█████▉                          | 10 kB 27.1 MB/s eta 0:00:01\r\u001b[K     |███████████▊                    | 20 kB 28.6 MB/s eta 0:00:01\r\u001b[K     |█████████████████▋              | 30 kB 12.3 MB/s eta 0:00:01\r\u001b[K     |███████████████████████▌        | 40 kB 9.7 MB/s eta 0:00:01\r\u001b[K     |█████████████████████████████▍  | 51 kB 8.2 MB/s eta 0:00:01\r\u001b[K     |████████████████████████████████| 55 kB 2.8 MB/s \n",
            "\u001b[?25hInstalling collected packages: pyenchant\n",
            "Successfully installed pyenchant-3.2.1\n"
          ],
          "name": "stdout"
        }
      ]
    },
    {
      "cell_type": "code",
      "metadata": {
        "id": "XHKayzn43UUJ"
      },
      "source": [
        "url = \"https://www.reddit.com/r/Coronavirus/comments/ons8um/twitter_suspends_marjorie_taylor_greene_for/\"\n",
        "submission = reddit.submission(url=url)"
      ],
      "execution_count": 21,
      "outputs": []
    },
    {
      "cell_type": "code",
      "metadata": {
        "id": "mJi_mXlc3o_E"
      },
      "source": [
        "submission = reddit.submission(id=\"ons8um\")"
      ],
      "execution_count": 22,
      "outputs": []
    },
    {
      "cell_type": "code",
      "metadata": {
        "colab": {
          "base_uri": "https://localhost:8080/"
        },
        "id": "5uUXgsGrAV78",
        "outputId": "56ed7530-7e63-403b-b3f5-34b0a805651c"
      },
      "source": [
        "for comment in submission.comments.list():\n",
        "    print(comment.body)"
      ],
      "execution_count": 23,
      "outputs": [
        {
          "output_type": "stream",
          "text": [
            "It appears that you are using PRAW in an asynchronous environment.\n",
            "It is strongly recommended to use Async PRAW: https://asyncpraw.readthedocs.io.\n",
            "See https://praw.readthedocs.io/en/latest/getting_started/multiple_instances.html#discord-bots-and-asynchronous-environments for more info.\n",
            "\n"
          ],
          "name": "stderr"
        },
        {
          "output_type": "stream",
          "text": [
            "This post is now locked for repeated rule-breaking comments. Please take this time to review our [sub rules](https://www.reddit.com/r/Coronavirus/wiki/rules).\n",
            "[removed]\n",
            "They need to just ban her permanently.  She keeps comparing getting vaccinated to the holocaust.\n",
            "The bottomless pit of bullshit.\n",
            "What did she say?\n",
            "Finally!\n",
            "\n",
            "What i don't yet understand is...what do they gain by denying science?  It's got to be more than pandering.\n",
            "Ban her permanently. She’s going to be an obnoxious repeat offender so just do it now and save us from the poison she spews\n",
            "How about suspending her for being a horrible person and traitor?\n",
            "I could still fathom how GOP could be against lockdowns and mask mandates at worst but I still haven’t understood the anti-vax sentiment. Trump literally was trying to get credit for the vaccines. Heck in November and December the Democrats were criticizing Trump for pushing the vaccine ahead for his political agenda and said they wouldn’t take the vaccine. I don’t even know how did the GOP become so anti-vax. Anti-vaccine is one of the few movements that didn’t actually begin from the right and they have coopted that too\n",
            "For 12 hours. Lol fuck Twitter. Ban her for good\n",
            "Should have happened a long time ago.\n",
            "\n",
            "Great that they did it, but MTG was posting misinformation on COVID pretty much since the beginning of the pandemic. Why did it take this long to take action? Twitter is just as complicit in the vaccine hesitancy problem.\n",
            "12 hour only? Ban forever.  Goes to show that shit doesn’t sink.\n",
            "ThEyRe CeNsOrInG uS!!!\n",
            "\n",
            "-buy your freedom phone here\n",
            "Jesus Christ like every single comment on here got removed… what the fuck happened\n",
            "I don't really like the precedent of Twitter being able to do this, although I get what she is doing is harmful.  Who is here to police Twitter?  Sure it's a private company, but all of its content is created by the public.\n",
            "[removed]\n",
            "[removed]\n",
            "[removed]\n",
            "[removed]\n",
            "[removed]\n",
            "Love it every time.\n",
            "You got me\n",
            "Oh, they found the bottom of the bottomless pit of bullshit and asked for an excavator.\n",
            "I think the objective is to destroy trust in government. It is easier to manipulate people when they're full of doubts and fear. The Republicans want to weaken government so that corporations can run things to suit them.\n",
            "Only 12 hour ban sadly\n",
            "> what do they gain by denying science?\n",
            "\n",
            "Votes.  Plain and simple.  \n",
            "\n",
            "But that's really a discussion for [another sub](https://www.cnet.com/tech/services-and-software/marjorie-taylor-greene-suspended-from-twitter-for-posting-coronavirus-misinformation/).\n",
            "They keep their voting base angry and perpetual victims with endless suffering and grievances. Kids will be taught “the truth” about who was responsible for mom or dad or grandpa losing the family business and dying as a hero “standing up” to a corrupt government and all that BS.. It’s the lost cause of the confederacy but for covid\n",
            "Grift. Sadly, their coffers are pretty full.\n",
            "A seat in Congress.\n",
            "[removed]\n",
            "[deleted]\n",
            "Yeah I see no reason she would get a 12 hour ban and Trump is permabanned.\n",
            "Your comment has been removed because\n",
            "\n",
            "* **Purely political posts and comments will be removed.** Political discussions can easily come to dominate online discussions. Therefore we remove political posts and comments and lock comments on borderline posts. ([More Information](https://www.reddit.com/r/Coronavirus/wiki/rules#wiki_rule_4.3A_avoid_politics))\n",
            "\n",
            "*I am a bot, and this action was performed automatically. Please [contact the moderators of this subreddit](/message/compose/?to=/r/Coronavirus) if you have any questions or concerns.*\n",
            "Your comment has been removed because\n",
            "\n",
            "* **Incivility isn’t allowed on this sub.** We want to encourage a respectful discussion. ([More Information](https://www.reddit.com/r/Coronavirus/wiki/rules#wiki_rule_1.3A_be_civil))\n",
            "\n",
            "*I am a bot, and this action was performed automatically. Please [contact the moderators of this subreddit](/message/compose/?to=/r/Coronavirus) if you have any questions or concerns.*\n",
            "Your comment has been removed because\n",
            "\n",
            "* **Purely political posts and comments will be removed.** Political discussions can easily come to dominate online discussions. Therefore we remove political posts and comments and lock comments on borderline posts. ([More Information](https://www.reddit.com/r/Coronavirus/wiki/rules#wiki_rule_4.3A_avoid_politics))\n",
            "\n",
            "*I am a bot, and this action was performed automatically. Please [contact the moderators of this subreddit](/message/compose/?to=/r/Coronavirus) if you have any questions or concerns.*\n",
            "Your comment has been removed because\n",
            "\n",
            "* **Purely political posts and comments will be removed.** Political discussions can easily come to dominate online discussions. Therefore we remove political posts and comments and lock comments on borderline posts. ([More Information](https://www.reddit.com/r/Coronavirus/wiki/rules#wiki_rule_4.3A_avoid_politics))\n",
            "\n",
            "*I am a bot, and this action was performed automatically. Please [contact the moderators of this subreddit](/message/compose/?to=/r/Coronavirus) if you have any questions or concerns.*\n",
            "Your comment has been removed because\n",
            "\n",
            "* **Purely political posts and comments will be removed.** Political discussions can easily come to dominate online discussions. Therefore we remove political posts and comments and lock comments on borderline posts. ([More Information](https://www.reddit.com/r/Coronavirus/wiki/rules#wiki_rule_4.3A_avoid_politics))\n",
            "\n",
            "*I am a bot, and this action was performed automatically. Please [contact the moderators of this subreddit](/message/compose/?to=/r/Coronavirus) if you have any questions or concerns.*\n",
            "They're 100% focused on midterms and building momentum. MTGs comments that Trump is not coming back in August cements that.\n",
            "But I think corporations realize they need a functioning government as well. So what is the endgame here?\n",
            "But it also adds a precedent so repeat offenses might result in longer suspensions\n",
            "I don't understand how you're going to get votes if they're dead. Edit: oh wait.\n",
            "Your comment has been removed because\n",
            "\n",
            "* **Purely political posts and comments will be removed.** Political discussions can easily come to dominate online discussions. Therefore we remove political posts and comments and lock comments on borderline posts. ([More Information](https://www.reddit.com/r/Coronavirus/wiki/rules#wiki_rule_4.3A_avoid_politics))\n",
            "\n",
            "*I am a bot, and this action was performed automatically. Please [contact the moderators of this subreddit](/message/compose/?to=/r/Coronavirus) if you have any questions or concerns.*\n",
            "how so?\n",
            "Her account is back up tho\n",
            "Profit.\n",
            "I don't think that at all. No government no clean air regulations, no consumer protection, no work safety, no protected public lands, no accounting reviews, no taxes. No, the corporations want as little government as possible.\n",
            "Not really.\n",
            "It’s not her first.\n",
            "Hope so\n"
          ],
          "name": "stdout"
        }
      ]
    },
    {
      "cell_type": "code",
      "metadata": {
        "colab": {
          "base_uri": "https://localhost:8080/"
        },
        "id": "gaJJccuY6eKF",
        "outputId": "74fd41f0-87c2-4d40-9edf-c8270de9cf23"
      },
      "source": [
        "comments=[]\n",
        "for top_level_comment in submission.comments:\n",
        "  comments.append(top_level_comment.body)\n",
        "  print(top_level_comment.body)\n",
        " "
      ],
      "execution_count": 24,
      "outputs": [
        {
          "output_type": "stream",
          "text": [
            "This post is now locked for repeated rule-breaking comments. Please take this time to review our [sub rules](https://www.reddit.com/r/Coronavirus/wiki/rules).\n",
            "[removed]\n",
            "They need to just ban her permanently.  She keeps comparing getting vaccinated to the holocaust.\n",
            "The bottomless pit of bullshit.\n",
            "What did she say?\n",
            "Finally!\n",
            "\n",
            "What i don't yet understand is...what do they gain by denying science?  It's got to be more than pandering.\n",
            "Ban her permanently. She’s going to be an obnoxious repeat offender so just do it now and save us from the poison she spews\n",
            "How about suspending her for being a horrible person and traitor?\n",
            "I could still fathom how GOP could be against lockdowns and mask mandates at worst but I still haven’t understood the anti-vax sentiment. Trump literally was trying to get credit for the vaccines. Heck in November and December the Democrats were criticizing Trump for pushing the vaccine ahead for his political agenda and said they wouldn’t take the vaccine. I don’t even know how did the GOP become so anti-vax. Anti-vaccine is one of the few movements that didn’t actually begin from the right and they have coopted that too\n",
            "For 12 hours. Lol fuck Twitter. Ban her for good\n",
            "Should have happened a long time ago.\n",
            "\n",
            "Great that they did it, but MTG was posting misinformation on COVID pretty much since the beginning of the pandemic. Why did it take this long to take action? Twitter is just as complicit in the vaccine hesitancy problem.\n",
            "12 hour only? Ban forever.  Goes to show that shit doesn’t sink.\n",
            "ThEyRe CeNsOrInG uS!!!\n",
            "\n",
            "-buy your freedom phone here\n",
            "Jesus Christ like every single comment on here got removed… what the fuck happened\n",
            "I don't really like the precedent of Twitter being able to do this, although I get what she is doing is harmful.  Who is here to police Twitter?  Sure it's a private company, but all of its content is created by the public.\n",
            "[removed]\n",
            "[removed]\n",
            "[removed]\n",
            "[removed]\n",
            "[removed]\n"
          ],
          "name": "stdout"
        }
      ]
    },
    {
      "cell_type": "code",
      "metadata": {
        "id": "Mn1LQrPJBUsv"
      },
      "source": [
        "import pandas as pd\n",
        "import numpy as np\n"
      ],
      "execution_count": 25,
      "outputs": []
    },
    {
      "cell_type": "code",
      "metadata": {
        "id": "iAS-p1iDBFlO"
      },
      "source": [
        "List=[]\n",
        "List=comments\n",
        "List =[str(i) for i in List]\n",
        "string_uncleaned= ' , '.join(List)"
      ],
      "execution_count": 27,
      "outputs": []
    },
    {
      "cell_type": "code",
      "metadata": {
        "id": "dAC_LTPFF0fa",
        "colab": {
          "base_uri": "https://localhost:8080/",
          "height": 213
        },
        "outputId": "f8dc5bba-bb68-4300-f38b-894ae3e4baf1"
      },
      "source": [
        "string_uncleaned"
      ],
      "execution_count": 29,
      "outputs": [
        {
          "output_type": "execute_result",
          "data": {
            "application/vnd.google.colaboratory.intrinsic+json": {
              "type": "string"
            },
            "text/plain": [
              "\"This post is now locked for repeated rule-breaking comments. Please take this time to review our [sub rules](https://www.reddit.com/r/Coronavirus/wiki/rules). , [removed] , They need to just ban her permanently.  She keeps comparing getting vaccinated to the holocaust. , The bottomless pit of bullshit. , What did she say? , Finally!\\n\\nWhat i don't yet understand is...what do they gain by denying science?  It's got to be more than pandering. , Ban her permanently. She’s going to be an obnoxious repeat offender so just do it now and save us from the poison she spews , How about suspending her for being a horrible person and traitor? , I could still fathom how GOP could be against lockdowns and mask mandates at worst but I still haven’t understood the anti-vax sentiment. Trump literally was trying to get credit for the vaccines. Heck in November and December the Democrats were criticizing Trump for pushing the vaccine ahead for his political agenda and said they wouldn’t take the vaccine. I don’t even know how did the GOP become so anti-vax. Anti-vaccine is one of the few movements that didn’t actually begin from the right and they have coopted that too , For 12 hours. Lol fuck Twitter. Ban her for good , Should have happened a long time ago.\\n\\nGreat that they did it, but MTG was posting misinformation on COVID pretty much since the beginning of the pandemic. Why did it take this long to take action? Twitter is just as complicit in the vaccine hesitancy problem. , 12 hour only? Ban forever.  Goes to show that shit doesn’t sink. , ThEyRe CeNsOrInG uS!!!\\n\\n-buy your freedom phone here , Jesus Christ like every single comment on here got removed… what the fuck happened , I don't really like the precedent of Twitter being able to do this, although I get what she is doing is harmful.  Who is here to police Twitter?  Sure it's a private company, but all of its content is created by the public. , [removed] , [removed] , [removed] , [removed] , [removed]\""
            ]
          },
          "metadata": {
            "tags": []
          },
          "execution_count": 29
        }
      ]
    },
    {
      "cell_type": "code",
      "metadata": {
        "id": "3FJDyqp-RB-2"
      },
      "source": [
        "from nltk.corpus import stopwords\n",
        "from nltk.tokenize import RegexpTokenizer\n",
        "from nltk.stem import WordNetLemmatizer\n",
        "from nltk.stem import PorterStemmer\n",
        "from nltk import FreqDist\n",
        "import en_core_web_sm\n",
        "import spacy"
      ],
      "execution_count": 38,
      "outputs": []
    },
    {
      "cell_type": "code",
      "metadata": {
        "id": "9BpWinNpRXHk"
      },
      "source": [
        "tokenizer = RegexpTokenizer('\\w+|\\$[\\d\\.]+|https\\S+')"
      ],
      "execution_count": 40,
      "outputs": []
    },
    {
      "cell_type": "code",
      "metadata": {
        "id": "zcY-0tMXRn-R"
      },
      "source": [
        "tokenized_string= tokenizer.tokenize(string_uncleaned)"
      ],
      "execution_count": 41,
      "outputs": []
    },
    {
      "cell_type": "code",
      "metadata": {
        "colab": {
          "base_uri": "https://localhost:8080/"
        },
        "id": "WVizmmIvRvtQ",
        "outputId": "68100031-2d59-4c66-b5d2-e40d99019b17"
      },
      "source": [
        "print(tokenized_string)"
      ],
      "execution_count": 42,
      "outputs": [
        {
          "output_type": "stream",
          "text": [
            "['This', 'post', 'is', 'now', 'locked', 'for', 'repeated', 'rule', 'breaking', 'comments', 'Please', 'take', 'this', 'time', 'to', 'review', 'our', 'sub', 'rules', 'https', 'www', 'reddit', 'com', 'r', 'Coronavirus', 'wiki', 'rules', 'removed', 'They', 'need', 'to', 'just', 'ban', 'her', 'permanently', 'She', 'keeps', 'comparing', 'getting', 'vaccinated', 'to', 'the', 'holocaust', 'The', 'bottomless', 'pit', 'of', 'bullshit', 'What', 'did', 'she', 'say', 'Finally', 'What', 'i', 'don', 't', 'yet', 'understand', 'is', 'what', 'do', 'they', 'gain', 'by', 'denying', 'science', 'It', 's', 'got', 'to', 'be', 'more', 'than', 'pandering', 'Ban', 'her', 'permanently', 'She', 's', 'going', 'to', 'be', 'an', 'obnoxious', 'repeat', 'offender', 'so', 'just', 'do', 'it', 'now', 'and', 'save', 'us', 'from', 'the', 'poison', 'she', 'spews', 'How', 'about', 'suspending', 'her', 'for', 'being', 'a', 'horrible', 'person', 'and', 'traitor', 'I', 'could', 'still', 'fathom', 'how', 'GOP', 'could', 'be', 'against', 'lockdowns', 'and', 'mask', 'mandates', 'at', 'worst', 'but', 'I', 'still', 'haven', 't', 'understood', 'the', 'anti', 'vax', 'sentiment', 'Trump', 'literally', 'was', 'trying', 'to', 'get', 'credit', 'for', 'the', 'vaccines', 'Heck', 'in', 'November', 'and', 'December', 'the', 'Democrats', 'were', 'criticizing', 'Trump', 'for', 'pushing', 'the', 'vaccine', 'ahead', 'for', 'his', 'political', 'agenda', 'and', 'said', 'they', 'wouldn', 't', 'take', 'the', 'vaccine', 'I', 'don', 't', 'even', 'know', 'how', 'did', 'the', 'GOP', 'become', 'so', 'anti', 'vax', 'Anti', 'vaccine', 'is', 'one', 'of', 'the', 'few', 'movements', 'that', 'didn', 't', 'actually', 'begin', 'from', 'the', 'right', 'and', 'they', 'have', 'coopted', 'that', 'too', 'For', '12', 'hours', 'Lol', 'fuck', 'Twitter', 'Ban', 'her', 'for', 'good', 'Should', 'have', 'happened', 'a', 'long', 'time', 'ago', 'Great', 'that', 'they', 'did', 'it', 'but', 'MTG', 'was', 'posting', 'misinformation', 'on', 'COVID', 'pretty', 'much', 'since', 'the', 'beginning', 'of', 'the', 'pandemic', 'Why', 'did', 'it', 'take', 'this', 'long', 'to', 'take', 'action', 'Twitter', 'is', 'just', 'as', 'complicit', 'in', 'the', 'vaccine', 'hesitancy', 'problem', '12', 'hour', 'only', 'Ban', 'forever', 'Goes', 'to', 'show', 'that', 'shit', 'doesn', 't', 'sink', 'ThEyRe', 'CeNsOrInG', 'uS', 'buy', 'your', 'freedom', 'phone', 'here', 'Jesus', 'Christ', 'like', 'every', 'single', 'comment', 'on', 'here', 'got', 'removed', 'what', 'the', 'fuck', 'happened', 'I', 'don', 't', 'really', 'like', 'the', 'precedent', 'of', 'Twitter', 'being', 'able', 'to', 'do', 'this', 'although', 'I', 'get', 'what', 'she', 'is', 'doing', 'is', 'harmful', 'Who', 'is', 'here', 'to', 'police', 'Twitter', 'Sure', 'it', 's', 'a', 'private', 'company', 'but', 'all', 'of', 'its', 'content', 'is', 'created', 'by', 'the', 'public', 'removed', 'removed', 'removed', 'removed', 'removed']\n"
          ],
          "name": "stdout"
        }
      ]
    },
    {
      "cell_type": "code",
      "metadata": {
        "id": "NhuFu4cTRx22"
      },
      "source": [
        "lower_string_token= [word.lower() for word in tokenized_string]\n",
        "nlp= en_core_web_sm.load()\n",
        "all_stopwords= nlp.Defaults.stop_words\n",
        "text = lower_string_token"
      ],
      "execution_count": 46,
      "outputs": []
    },
    {
      "cell_type": "code",
      "metadata": {
        "colab": {
          "base_uri": "https://localhost:8080/"
        },
        "id": "93rM08NiSRz1",
        "outputId": "8790a19e-3809-40b6-8b1e-fd4759307c00"
      },
      "source": [
        "tokens_without_sw= [word for word in text if not word in all_stopwords]\n",
        "print(tokens_without_sw)"
      ],
      "execution_count": 48,
      "outputs": [
        {
          "output_type": "stream",
          "text": [
            "['post', 'locked', 'repeated', 'rule', 'breaking', 'comments', 'time', 'review', 'sub', 'rules', 'https', 'www', 'reddit', 'com', 'r', 'coronavirus', 'wiki', 'rules', 'removed', 'need', 'ban', 'permanently', 'keeps', 'comparing', 'getting', 'vaccinated', 'holocaust', 'bottomless', 'pit', 'bullshit', 'finally', 'don', 't', 'understand', 'gain', 'denying', 'science', 's', 'got', 'pandering', 'ban', 'permanently', 's', 'going', 'obnoxious', 'repeat', 'offender', 'save', 'poison', 'spews', 'suspending', 'horrible', 'person', 'traitor', 'fathom', 'gop', 'lockdowns', 'mask', 'mandates', 'worst', 'haven', 't', 'understood', 'anti', 'vax', 'sentiment', 'trump', 'literally', 'trying', 'credit', 'vaccines', 'heck', 'november', 'december', 'democrats', 'criticizing', 'trump', 'pushing', 'vaccine', 'ahead', 'political', 'agenda', 'said', 'wouldn', 't', 'vaccine', 'don', 't', 'know', 'gop', 'anti', 'vax', 'anti', 'vaccine', 'movements', 'didn', 't', 'actually', 'begin', 'right', 'coopted', '12', 'hours', 'lol', 'fuck', 'twitter', 'ban', 'good', 'happened', 'long', 'time', 'ago', 'great', 'mtg', 'posting', 'misinformation', 'covid', 'pretty', 'beginning', 'pandemic', 'long', 'action', 'twitter', 'complicit', 'vaccine', 'hesitancy', 'problem', '12', 'hour', 'ban', 'forever', 'goes', 'shit', 'doesn', 't', 'sink', 'theyre', 'censoring', 'buy', 'freedom', 'phone', 'jesus', 'christ', 'like', 'single', 'comment', 'got', 'removed', 'fuck', 'happened', 'don', 't', 'like', 'precedent', 'twitter', 'able', 'harmful', 'police', 'twitter', 'sure', 's', 'private', 'company', 'content', 'created', 'public', 'removed', 'removed', 'removed', 'removed', 'removed']\n"
          ],
          "name": "stdout"
        }
      ]
    },
    {
      "cell_type": "code",
      "metadata": {
        "colab": {
          "base_uri": "https://localhost:8080/"
        },
        "id": "h7frAQ29To1N",
        "outputId": "5e2a297e-daf5-43ce-8bb3-14999e033773"
      },
      "source": [
        "import nltk\n",
        "nltk.download('wordnet')"
      ],
      "execution_count": 52,
      "outputs": [
        {
          "output_type": "stream",
          "text": [
            "[nltk_data] Downloading package wordnet to /root/nltk_data...\n",
            "[nltk_data]   Unzipping corpora/wordnet.zip.\n"
          ],
          "name": "stdout"
        },
        {
          "output_type": "execute_result",
          "data": {
            "text/plain": [
              "True"
            ]
          },
          "metadata": {
            "tags": []
          },
          "execution_count": 52
        }
      ]
    },
    {
      "cell_type": "code",
      "metadata": {
        "colab": {
          "base_uri": "https://localhost:8080/"
        },
        "id": "E7uzpocATI6v",
        "outputId": "eff9c9ae-2a85-48be-98f3-9db0c67102fe"
      },
      "source": [
        "lemmatizer= WordNetLemmatizer()\n",
        "\n",
        "lemmatized_tokens=([lemmatizer.lemmatize(w) for w in tokens_without_sw])\n",
        "print(lemmatized_tokens)"
      ],
      "execution_count": 53,
      "outputs": [
        {
          "output_type": "stream",
          "text": [
            "['post', 'locked', 'repeated', 'rule', 'breaking', 'comment', 'time', 'review', 'sub', 'rule', 'http', 'www', 'reddit', 'com', 'r', 'coronavirus', 'wiki', 'rule', 'removed', 'need', 'ban', 'permanently', 'keep', 'comparing', 'getting', 'vaccinated', 'holocaust', 'bottomless', 'pit', 'bullshit', 'finally', 'don', 't', 'understand', 'gain', 'denying', 'science', 's', 'got', 'pandering', 'ban', 'permanently', 's', 'going', 'obnoxious', 'repeat', 'offender', 'save', 'poison', 'spews', 'suspending', 'horrible', 'person', 'traitor', 'fathom', 'gop', 'lockdown', 'mask', 'mandate', 'worst', 'haven', 't', 'understood', 'anti', 'vax', 'sentiment', 'trump', 'literally', 'trying', 'credit', 'vaccine', 'heck', 'november', 'december', 'democrat', 'criticizing', 'trump', 'pushing', 'vaccine', 'ahead', 'political', 'agenda', 'said', 'wouldn', 't', 'vaccine', 'don', 't', 'know', 'gop', 'anti', 'vax', 'anti', 'vaccine', 'movement', 'didn', 't', 'actually', 'begin', 'right', 'coopted', '12', 'hour', 'lol', 'fuck', 'twitter', 'ban', 'good', 'happened', 'long', 'time', 'ago', 'great', 'mtg', 'posting', 'misinformation', 'covid', 'pretty', 'beginning', 'pandemic', 'long', 'action', 'twitter', 'complicit', 'vaccine', 'hesitancy', 'problem', '12', 'hour', 'ban', 'forever', 'go', 'shit', 'doesn', 't', 'sink', 'theyre', 'censoring', 'buy', 'freedom', 'phone', 'jesus', 'christ', 'like', 'single', 'comment', 'got', 'removed', 'fuck', 'happened', 'don', 't', 'like', 'precedent', 'twitter', 'able', 'harmful', 'police', 'twitter', 'sure', 's', 'private', 'company', 'content', 'created', 'public', 'removed', 'removed', 'removed', 'removed', 'removed']\n"
          ],
          "name": "stdout"
        }
      ]
    },
    {
      "cell_type": "code",
      "metadata": {
        "colab": {
          "base_uri": "https://localhost:8080/"
        },
        "id": "VejdQiaxTZjk",
        "outputId": "b8115c8e-3004-496f-db80-ebbf40ca5c1f"
      },
      "source": [
        "stemmer = PorterStemmer()\n",
        "stem_tokens=([stemmer.stem(s) for s in tokens_without_sw])\n",
        "\n",
        "cleaned_output= lemmatized_tokens\n",
        "print('Original lenght words =',(len(string_uncleaned)))\n",
        "print(\"Number of words after removing tokenizing =\", (len(tokenized_string)))\n",
        "print(\"Number of words for final output\", len(cleaned_output))"
      ],
      "execution_count": 56,
      "outputs": [
        {
          "output_type": "stream",
          "text": [
            "Original lenght words = 1974\n",
            "Number of words after removing tokenizing = 349\n",
            "Number of words for final output 171\n"
          ],
          "name": "stdout"
        }
      ]
    },
    {
      "cell_type": "code",
      "metadata": {
        "colab": {
          "base_uri": "https://localhost:8080/"
        },
        "id": "98-LDBjNT1Sm",
        "outputId": "c388951c-a444-4d4f-8633-8ea7dde7c8ae"
      },
      "source": [
        "from nltk.sentiment.vader import SentimentIntensityAnalyzer as SIA \n",
        "import nltk\n",
        "nltk.download('vader_lexicon')\n",
        "nltk.download('movie_reviews')\n",
        "nltk.download('punkt')"
      ],
      "execution_count": 62,
      "outputs": [
        {
          "output_type": "stream",
          "text": [
            "[nltk_data] Downloading package vader_lexicon to /root/nltk_data...\n",
            "[nltk_data] Downloading package movie_reviews to /root/nltk_data...\n",
            "[nltk_data]   Unzipping corpora/movie_reviews.zip.\n",
            "[nltk_data] Downloading package punkt to /root/nltk_data...\n",
            "[nltk_data]   Unzipping tokenizers/punkt.zip.\n"
          ],
          "name": "stdout"
        },
        {
          "output_type": "execute_result",
          "data": {
            "text/plain": [
              "True"
            ]
          },
          "metadata": {
            "tags": []
          },
          "execution_count": 62
        }
      ]
    },
    {
      "cell_type": "code",
      "metadata": {
        "id": "dqha0F4nVLu5"
      },
      "source": [
        "sia = SIA()\n",
        "result=[]\n",
        "\n",
        "for sentences in cleaned_output:\n",
        "  pol_score = sia.polarity_scores(sentences)\n",
        "  pol_score['words'] = sentences\n",
        "  result.append(pol_score)\n"
      ],
      "execution_count": 66,
      "outputs": []
    },
    {
      "cell_type": "code",
      "metadata": {
        "colab": {
          "base_uri": "https://localhost:8080/",
          "height": 334
        },
        "id": "z4pfUrKOVO3d",
        "outputId": "777288db-01b7-4729-84f0-fe8c07e53972"
      },
      "source": [
        ""
      ],
      "execution_count": 67,
      "outputs": [
        {
          "output_type": "error",
          "ename": "OptionError",
          "evalue": "ignored",
          "traceback": [
            "\u001b[0;31m---------------------------------------------------------------------------\u001b[0m",
            "\u001b[0;31mOptionError\u001b[0m                               Traceback (most recent call last)",
            "\u001b[0;32m<ipython-input-67-012f1132762e>\u001b[0m in \u001b[0;36m<module>\u001b[0;34m()\u001b[0m\n\u001b[0;32m----> 1\u001b[0;31m \u001b[0mpd\u001b[0m\u001b[0;34m.\u001b[0m\u001b[0mset_option\u001b[0m\u001b[0;34m(\u001b[0m\u001b[0;34m'display.max_colums'\u001b[0m\u001b[0;34m,\u001b[0m \u001b[0;32mNone\u001b[0m\u001b[0;34m,\u001b[0m \u001b[0;34m'max_colwidth'\u001b[0m\u001b[0;34m,\u001b[0m \u001b[0;32mNone\u001b[0m\u001b[0;34m)\u001b[0m\u001b[0;34m\u001b[0m\u001b[0;34m\u001b[0m\u001b[0m\n\u001b[0m\u001b[1;32m      2\u001b[0m \u001b[0mdf\u001b[0m\u001b[0;34m=\u001b[0m \u001b[0mpd\u001b[0m\u001b[0;34m.\u001b[0m\u001b[0mDataFrame\u001b[0m\u001b[0;34m.\u001b[0m\u001b[0mfrom_records\u001b[0m\u001b[0;34m(\u001b[0m\u001b[0mresult\u001b[0m\u001b[0;34m)\u001b[0m\u001b[0;34m\u001b[0m\u001b[0;34m\u001b[0m\u001b[0m\n",
            "\u001b[0;32m/usr/local/lib/python3.7/dist-packages/pandas/_config/config.py\u001b[0m in \u001b[0;36m__call__\u001b[0;34m(self, *args, **kwds)\u001b[0m\n\u001b[1;32m    231\u001b[0m \u001b[0;34m\u001b[0m\u001b[0m\n\u001b[1;32m    232\u001b[0m     \u001b[0;32mdef\u001b[0m \u001b[0m__call__\u001b[0m\u001b[0;34m(\u001b[0m\u001b[0mself\u001b[0m\u001b[0;34m,\u001b[0m \u001b[0;34m*\u001b[0m\u001b[0margs\u001b[0m\u001b[0;34m,\u001b[0m \u001b[0;34m**\u001b[0m\u001b[0mkwds\u001b[0m\u001b[0;34m)\u001b[0m\u001b[0;34m:\u001b[0m\u001b[0;34m\u001b[0m\u001b[0;34m\u001b[0m\u001b[0m\n\u001b[0;32m--> 233\u001b[0;31m         \u001b[0;32mreturn\u001b[0m \u001b[0mself\u001b[0m\u001b[0;34m.\u001b[0m\u001b[0m__func__\u001b[0m\u001b[0;34m(\u001b[0m\u001b[0;34m*\u001b[0m\u001b[0margs\u001b[0m\u001b[0;34m,\u001b[0m \u001b[0;34m**\u001b[0m\u001b[0mkwds\u001b[0m\u001b[0;34m)\u001b[0m\u001b[0;34m\u001b[0m\u001b[0;34m\u001b[0m\u001b[0m\n\u001b[0m\u001b[1;32m    234\u001b[0m \u001b[0;34m\u001b[0m\u001b[0m\n\u001b[1;32m    235\u001b[0m     \u001b[0;34m@\u001b[0m\u001b[0mproperty\u001b[0m\u001b[0;34m\u001b[0m\u001b[0;34m\u001b[0m\u001b[0m\n",
            "\u001b[0;32m/usr/local/lib/python3.7/dist-packages/pandas/_config/config.py\u001b[0m in \u001b[0;36m_set_option\u001b[0;34m(*args, **kwargs)\u001b[0m\n\u001b[1;32m    124\u001b[0m \u001b[0;34m\u001b[0m\u001b[0m\n\u001b[1;32m    125\u001b[0m     \u001b[0;32mfor\u001b[0m \u001b[0mk\u001b[0m\u001b[0;34m,\u001b[0m \u001b[0mv\u001b[0m \u001b[0;32min\u001b[0m \u001b[0mzip\u001b[0m\u001b[0;34m(\u001b[0m\u001b[0margs\u001b[0m\u001b[0;34m[\u001b[0m\u001b[0;34m:\u001b[0m\u001b[0;34m:\u001b[0m\u001b[0;36m2\u001b[0m\u001b[0;34m]\u001b[0m\u001b[0;34m,\u001b[0m \u001b[0margs\u001b[0m\u001b[0;34m[\u001b[0m\u001b[0;36m1\u001b[0m\u001b[0;34m:\u001b[0m\u001b[0;34m:\u001b[0m\u001b[0;36m2\u001b[0m\u001b[0;34m]\u001b[0m\u001b[0;34m)\u001b[0m\u001b[0;34m:\u001b[0m\u001b[0;34m\u001b[0m\u001b[0;34m\u001b[0m\u001b[0m\n\u001b[0;32m--> 126\u001b[0;31m         \u001b[0mkey\u001b[0m \u001b[0;34m=\u001b[0m \u001b[0m_get_single_key\u001b[0m\u001b[0;34m(\u001b[0m\u001b[0mk\u001b[0m\u001b[0;34m,\u001b[0m \u001b[0msilent\u001b[0m\u001b[0;34m)\u001b[0m\u001b[0;34m\u001b[0m\u001b[0;34m\u001b[0m\u001b[0m\n\u001b[0m\u001b[1;32m    127\u001b[0m \u001b[0;34m\u001b[0m\u001b[0m\n\u001b[1;32m    128\u001b[0m         \u001b[0mo\u001b[0m \u001b[0;34m=\u001b[0m \u001b[0m_get_registered_option\u001b[0m\u001b[0;34m(\u001b[0m\u001b[0mkey\u001b[0m\u001b[0;34m)\u001b[0m\u001b[0;34m\u001b[0m\u001b[0;34m\u001b[0m\u001b[0m\n",
            "\u001b[0;32m/usr/local/lib/python3.7/dist-packages/pandas/_config/config.py\u001b[0m in \u001b[0;36m_get_single_key\u001b[0;34m(pat, silent)\u001b[0m\n\u001b[1;32m     89\u001b[0m         \u001b[0;32mif\u001b[0m \u001b[0;32mnot\u001b[0m \u001b[0msilent\u001b[0m\u001b[0;34m:\u001b[0m\u001b[0;34m\u001b[0m\u001b[0;34m\u001b[0m\u001b[0m\n\u001b[1;32m     90\u001b[0m             \u001b[0m_warn_if_deprecated\u001b[0m\u001b[0;34m(\u001b[0m\u001b[0mpat\u001b[0m\u001b[0;34m)\u001b[0m\u001b[0;34m\u001b[0m\u001b[0;34m\u001b[0m\u001b[0m\n\u001b[0;32m---> 91\u001b[0;31m         \u001b[0;32mraise\u001b[0m \u001b[0mOptionError\u001b[0m\u001b[0;34m(\u001b[0m\u001b[0;34mf\"No such keys(s): {repr(pat)}\"\u001b[0m\u001b[0;34m)\u001b[0m\u001b[0;34m\u001b[0m\u001b[0;34m\u001b[0m\u001b[0m\n\u001b[0m\u001b[1;32m     92\u001b[0m     \u001b[0;32mif\u001b[0m \u001b[0mlen\u001b[0m\u001b[0;34m(\u001b[0m\u001b[0mkeys\u001b[0m\u001b[0;34m)\u001b[0m \u001b[0;34m>\u001b[0m \u001b[0;36m1\u001b[0m\u001b[0;34m:\u001b[0m\u001b[0;34m\u001b[0m\u001b[0;34m\u001b[0m\u001b[0m\n\u001b[1;32m     93\u001b[0m         \u001b[0;32mraise\u001b[0m \u001b[0mOptionError\u001b[0m\u001b[0;34m(\u001b[0m\u001b[0;34m\"Pattern matched multiple keys\"\u001b[0m\u001b[0;34m)\u001b[0m\u001b[0;34m\u001b[0m\u001b[0;34m\u001b[0m\u001b[0m\n",
            "\u001b[0;31mOptionError\u001b[0m: \"No such keys(s): 'display.max_colums'\""
          ]
        }
      ]
    },
    {
      "cell_type": "code",
      "metadata": {
        "id": "vgnbpFQHWCG9"
      },
      "source": [
        ""
      ],
      "execution_count": null,
      "outputs": []
    }
  ]
}