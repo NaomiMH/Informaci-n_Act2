{
  "nbformat": 4,
  "nbformat_minor": 0,
  "metadata": {
    "colab": {
      "name": "Comments_Reddit.ipynb",
      "provenance": []
    },
    "kernelspec": {
      "name": "python3",
      "display_name": "Python 3"
    },
    "language_info": {
      "name": "python"
    }
  },
  "cells": [
    {
      "cell_type": "code",
      "metadata": {
        "id": "mon1a3gYuxqP"
      },
      "source": [
        "!pip install -q praw"
      ],
      "execution_count": 14,
      "outputs": []
    },
    {
      "cell_type": "code",
      "metadata": {
        "id": "-TK8sM-2s9RI"
      },
      "source": [
        "import praw\n",
        "import pandas as pd\n",
        "import datetime as dt"
      ],
      "execution_count": 15,
      "outputs": []
    },
    {
      "cell_type": "code",
      "metadata": {
        "id": "obmU0w8m3wDh"
      },
      "source": [
        "client_id='J5HedJeMNRSR9aawRYqFNg'\n",
        "client_secret='gqS8YKtJ0TgY8wgFmOUz39A5-C4ANg'\n",
        "user_agent='Tecnologías de Información Emergente'\n",
        "username='karenzun97'\n",
        "password='VabjHR6AfCD4YT%'"
      ],
      "execution_count": 18,
      "outputs": []
    },
    {
      "cell_type": "code",
      "metadata": {
        "colab": {
          "base_uri": "https://localhost:8080/"
        },
        "id": "Qw2tdPYZ3F-4",
        "outputId": "64b92386-492a-436b-9241-bbe37a652c47"
      },
      "source": [
        "!pip install pyenchant"
      ],
      "execution_count": 19,
      "outputs": [
        {
          "output_type": "stream",
          "text": [
            "Collecting pyenchant\n",
            "  Downloading pyenchant-3.2.1-py3-none-any.whl (55 kB)\n",
            "\u001b[?25l\r\u001b[K     |█████▉                          | 10 kB 27.1 MB/s eta 0:00:01\r\u001b[K     |███████████▊                    | 20 kB 28.6 MB/s eta 0:00:01\r\u001b[K     |█████████████████▋              | 30 kB 12.3 MB/s eta 0:00:01\r\u001b[K     |███████████████████████▌        | 40 kB 9.7 MB/s eta 0:00:01\r\u001b[K     |█████████████████████████████▍  | 51 kB 8.2 MB/s eta 0:00:01\r\u001b[K     |████████████████████████████████| 55 kB 2.8 MB/s \n",
            "\u001b[?25hInstalling collected packages: pyenchant\n",
            "Successfully installed pyenchant-3.2.1\n"
          ],
          "name": "stdout"
        }
      ]
    },
    {
      "cell_type": "code",
      "metadata": {
        "id": "XHKayzn43UUJ"
      },
      "source": [
        "url = \"https://www.reddit.com/r/Coronavirus/comments/on9n9w/england_takes_leap_into_the_unknown_lifting_covid/\"\n",
        "submission = reddit.submission(url=url)"
      ],
      "execution_count": 83,
      "outputs": []
    },
    {
      "cell_type": "code",
      "metadata": {
        "id": "mJi_mXlc3o_E"
      },
      "source": [
        "submission = reddit.submission(id=\"on9n9w\")"
      ],
      "execution_count": 84,
      "outputs": []
    },
    {
      "cell_type": "code",
      "metadata": {
        "colab": {
          "base_uri": "https://localhost:8080/",
          "height": 1000
        },
        "id": "5uUXgsGrAV78",
        "outputId": "cca3c12d-46e1-4242-cb31-ccc4d3e35410"
      },
      "source": [
        "for comment in submission.comments.list():\n",
        "    print(comment.body)"
      ],
      "execution_count": 85,
      "outputs": [
        {
          "output_type": "stream",
          "text": [
            "It appears that you are using PRAW in an asynchronous environment.\n",
            "It is strongly recommended to use Async PRAW: https://asyncpraw.readthedocs.io.\n",
            "See https://praw.readthedocs.io/en/latest/getting_started/multiple_instances.html#discord-bots-and-asynchronous-environments for more info.\n",
            "\n"
          ],
          "name": "stderr"
        },
        {
          "output_type": "stream",
          "text": [
            "It’s only the « unknown » to anyone who hasn’t been paying attention to the pandemic.\n",
            "This will be an interesting case study on COVID among the younger segment of the population. It could be a disaster or perhaps break the panic that stems from news of a COVID infection. If the deaths remain low even as cases sky rocket, the perception of the virus could shift.\n",
            "\n",
            "As for the Long COVID fears, does anyone have good studies on the percentage of people who report symptoms broken down by age demographics? I've seen reports of general figures, but I'm curious as to more detailed information.\n",
            "The gov are trying to push a final surge before flu season starts in Autumn. Flu season is predicted to be strong this year with little immunity, and take up a lot of hospital beds, so the idea is we don’t want to be dealing with both covid and flu. \n",
            "\n",
            "So the UK should be one of the most antibody heavy countries in the world by October, by jabs + infections.\n",
            "It’s actually the only example to follow for the world. Vaccinate and then open. Number of cases mean nothing. Number of hospitalizations mean everything.\n",
            "We really gotta learn to live with this virus. Everybody that can get vaccinated just get vaccinated please, we got lives to live out here.\n",
            "Y'all people need to chill. Like wtf, you want to live in this dystopian world where you can't even see friends and family? Fuck that. Vaccination rates are high. Yes cases rising but look, we had concerts, Wimbledon, Euros and we still living. It's long time we get back to the pre-covid normal, or at least a semblance of it\n",
            "This is either going to be Britain's ticket out of the pandemic or an absolute disaster. There is no in-between.\n",
            "\n",
            "We reported an unusually low number of new cases today, at just 39,950. For comparison, two days ago we pushed 54,349 new cases. Whether this is a blip or we've unexpected hit the peak already remains to be seen.\n",
            "I'd really like to see some cost-benefit analyses of this. I'm inclined to be in favour of eliminating restrictions, but it depends on the answers to questions I'm not very sure about, like how likely is it that hospitals will get overwhelmed again? How likely it is that this policy will be the cause of a dangerous new variant arising? How much do people value the freedoms?\n",
            "\n",
            "It's frustratingly often absent from these discussions. Obviously, keeping tighter restrictions will likely prevent Covid cases and deaths. *But is this is a good trade-off?*\n",
            "How is this an unknown? Florida and Texas did it a long time ago, and nearly the entire US is fully open and the sky has not fallen.\n",
            "The Netherlands saw a 20x increase of new cases in just 10 days (From 500 a day to over 10.500 per day currently.) The UK is currently at 50.000 cases per day. Maybe it will not result in a 20x increase, but the rise in cases will be staggering nonetheless.\n",
            "\n",
            "Not all mild cases will recover in 2 weeks. Just because most people will not end up in the hospital, does not mean everything will be fine. This party is going to be brutal.\n",
            "I guess this is how you get the last vaccine hold outs to get inoculated. Either by getting vaccinated, or catching covid. After this they'll have herd immunity. And so far their deaths haven't spiked, so vaccines are obviously working.\n",
            "And if we have leant anything from England from the past week. We are not the brightest of folk.\n",
            "But isn't the US basically already doing this?\n",
            "I'm sure getting a pint down at the pub will be worth having your lungs turn into blood pudding.\n",
            "I don't know the percentage of vaccinated in the UK but if it's enough, there shouldn’t be any problems\n",
            "\n",
            "Oh for chrissake why the downvotes\n",
            "This all or nothing approach is just maddening.\n",
            "I dont know if anyone else has noticed this, but Scotland has seen declining case counts since July 4.\n",
            "Until children can actually get the vaccine we shouldn't be lifting ANY of the restrictions.\n",
            "Johnson has decided to let it rip. It'll be like an episode of Black Mirror.\n",
            "I wonder what do people think the alternative is continue to blotch economy, tell people to keep wearing masks and sit at home, cop the fck up if u feel ur at risk then sure continue to live inside ur bunker, most vulnerable and those in need vaccinated so it's relatively safe, as this pandemic bs will go on for couple more years anyway, thus ppl should make their own decisions what's safe for them and not, no need for nanny state to say everyone should sit at home for two years because Billy down the block could die.\n",
            "Unknown? Has whoever wrote that headline been living in a cave the past year and half?\n",
            "[hospital patients](https://ourworldindata.org/explorers/coronavirus-data-explorer?zoomToSelection=true&time=2020-03-01..latest&pickerSort=desc&pickerMetric=new_cases_smoothed_per_million&Metric=Hospital+patients&Interval=7-day+rolling+average&Relative+to+Population=true&Align+outbreaks=false&country=IND~GBR~DEU)        \n",
            "[hospital admissions](https://ourworldindata.org/explorers/coronavirus-data-explorer?zoomToSelection=true&time=2020-03-01..latest&pickerSort=desc&pickerMetric=new_cases_smoothed_per_million&Metric=Hospital+admissions&Interval=7-day+rolling+average&Relative+to+Population=true&Align+outbreaks=false&country=IND~GBR)    \n",
            "[ICU patients](https://ourworldindata.org/explorers/coronavirus-data-explorer?zoomToSelection=true&time=2020-03-01..latest&pickerSort=desc&pickerMetric=new_cases_smoothed_per_million&Metric=ICU+patients&Interval=7-day+rolling+average&Relative+to+Population=true&Align+outbreaks=false&country=IND~GBR)      \n",
            "[confirmed deaths](https://ourworldindata.org/explorers/coronavirus-data-explorer?zoomToSelection=true&time=2020-03-01..latest&pickerSort=desc&pickerMetric=new_cases_smoothed_per_million&Metric=Confirmed+deaths&Interval=7-day+rolling+average&Relative+to+Population=true&Align+outbreaks=false&country=~GBR)\n",
            "\n",
            "Let's hope that all these graphs won't go very high in the next weeks.\n",
            "Still waiting for my second dose, but I don’t think I’ll stop wearing my mask even after I’ve had the second jab.\n",
            "Covid hospitalization is already rising. https://ourworldindata.org/grapher/uk-daily-covid-admissions \n",
            "\n",
            "I would be very upset if I was a healthcare worker in the UK.\n",
            "!remindme 2 months\n",
            "Unknown??? \n",
            "\n",
            "Even without looking into my crystal ball, I'm sure that there's going to be another wave of infections.  Hospitalization, deaths and another variant are bound to follow.\n",
            "Not a leap into the unknown, a leap into the icu\n",
            "England finds clever to shoot themselves in the foot. Standby for the \"in hindsight we shouldn't have done that\" reactions! \n",
            "Though English pride goes a long way!\n",
            "As a man of numbers, I find the whole ordeal a bit surreal. Initially, yes we had every reason to think covid was going to hit us really, really hard. Fortunately, it didn't. Again, just talking about numbers here, which might seem inhumane, but important to get this into context:\n",
            "\n",
            "heart attacks kill 18M people globally per year\n",
            "\n",
            "cancer kills around 10M\n",
            "\n",
            "Even diarrhea kills more people a year than covid did.\n",
            "\n",
            "&#x200B;\n",
            "\n",
            "Let us find a way back to normalty together. Life must go on.\n",
            "After what happened in The Netherlands just weeks ago, i think that UK is on a very very bad trajectory.\n",
            "[removed]\n",
            "I, for one, think it's best to do this before school starts\n",
            "\n",
            "If things go south, then they can lock down again.\n",
            "Is England mad the UK variant isn’t top dog globally anymore and wants to ensure they manufacture a worse variant?\n",
            "[deleted]\n",
            "Boris Johnson is setting a great example by quarantining after coming in contact with someone who tested positive.\n",
            "Oh oh!!\n",
            "So the UK is just gonna cull its people then. OK.\n",
            "It’s an unusual strategy, Cotton. Let’s see if it works for them.\n",
            "why is UK government so stupid.  this is gonna end badly in 2-3 weeks for sure.  we've seen this movie for 15 months.\n",
            "[removed]\n",
            "\"unknown\"\n",
            "\n",
            "I don't know but I think we set a perfect example of what *not* to do.\n",
            "Unfortunately our government is more apt at listening to a few back bench MPs than the public and the health services.\n",
            "[removed]\n",
            "Ah, the ol’ “Fuck it…” ploy.\n",
            "I'm sure this will have totally predictable results\n",
            "Unknown? Bruh literally look to your right and you’ll see it, small country there is surging with cases after having done the same.\n",
            "Mi Nan says - Fook Covid\n",
            "England is basically saying “fck it, we’ll move on without the unvaccinated”.\n",
            "\"Please, please, please be cautious\" he says to the flood as he opens the floodgates.\n",
            "“Man takes leap into the unknown, pours gasoline onto an open flame”\n",
            "It has been nearly 2 years... At a certain point, people won't tolerate indefinite restrictions.\n",
            "I actually agree with Boris on this one. If u don't open up now when do you? Also its hear to stay.... If its this Yr or next. Everyone is going to get it eventually. Let's do this\n",
            "GASP! something that's fractions more deadly than the common flu\n",
            "How fucking stupid is the person who wrote this headline? \n",
            "\n",
            "UNKNOWN ?!?! ARE YOU KIDDING US ?!?!?\n",
            "good. if scared stay in your box. 🤷\n",
            "Unknown to anyone with an IQ < 20\n",
            "Good luck with that! Let us know how that goes for you.\n",
            "[removed]\n",
            "Morons\n",
            "This is reckless. Worse part is that if a new variant is born out of this, we will all find out with them.\n",
            "Came here to say exactly this. It’s not unknown. We know exactly what the consequences will be.\n",
            "This, what are they expecting to happen?\n",
            "\n",
            "Until the world is 100% fully vaccinated I'm still wearing a mask and will avoid going into places as much as possible.\n",
            "\n",
            "Edit: I did *not* say forever. I will still wear a mask for the time being and am being careful. I also want to move on with life and understand many things I do daily, simply in an attempt to exist carries risk. Please read more carefully, as I'm tired of getting blown up by something *I did not say* and if anyone has an issue with my continuing to wear a mask then I suggest you do what you're telling *me* to do: Ignore my mask and move on.\n",
            "I think dropping all measures while a case surge is going on and the vaccination rollout still isn't finished is somewhat of an unknown.\n",
            "Cases there are already through the roof with protections in place so it doesn't seem that they've done anything protective. Why not open in in that case? My guess is that the risk is marginal at most.\n",
            "This\n",
            "Something tells me an Englishman is about to discover “a new world” called the Netherlands.  Or at least claim to.\n",
            "They make it sound so heroic don't they? Those pioneers!\n",
            "I like your point. When this started, it was about preventing deaths and keeping our hospitals from being over run. We seem to have forgotten that along the way.\n",
            "Studies using self reported symptoms are never 'good' science.\n",
            "It also seems like long covid is extremely rare in vaccinated people\n",
            "https://www.nbcnews.com/news/amp/ncna1273970\n",
            "Is it? Have you forgotten about Florida? I went to Florida for spring break (fully vaccinated) and went into several bars and night clubs that were easily at 100% capacity. This was back before widespread vaccine adoption, and we know that nothing outside of the status quo of covid came from it.\n",
            "Yeah, everyone panicking that cases are going up, when the number of hospitalisations and deaths is very small. Honestly, if people are so fearful, it might be best to stop announcing case numbers every day?\n",
            "Has this ever been said aloud or are you guessing?\n",
            "I agree, lifting all restrictions now is the best way forward for any country where everyone who wanted the vaccine had a chance to get it, which includes almost all of Europe as well.\n",
            "\n",
            "Edit: Yeah, I stand corrected and now I know that many young people could still not get their second dose. It really sucks that the UK is still committed to extending the interval to 8 weeks. Yes, I know that some countries in Europe still haven't reached saturation yet. I've corrected myself in a response below with a graph.\n",
            "Please explain?\n",
            "There's been drastically reduced flu circulation during the pandemic. Do you know if that's predicted to make it easier or harder to predict what strains to vaccinate against? Could we conceivably see greater than normal uptake of flu vaccines, since the pandemic experience has been a strong reminder the benefits of getting vaccinated?\n",
            "A common cold isn't the flu.\n",
            "Assuming another comment I read on here is correct, even young people who got their first dose as soon as possible won't have the chance to get a second dose until early August, and so won't be fully vaccinated until late August. I'm in Canada and fully vaccinated, but if I was a young person in the UK I'd be pretty pissed at not having the opportunity to be fully vaccinated before everything is opened up completely. We still don't know enough about the long term effects of the disease, so they're gambling with the long-term health of young adults instead of giving them a chance to be fully protected.\n",
            "> Vaccinate and then open.\n",
            "\n",
            "I am in principle for it, but I feel the vaccination rate should be higher when all restrictions fall away. Just a little over 50 % of the population being fully vaccinated is not enough in my opinion.\n",
            "A cold reminder that for many countries it simply isn't possible to even dream of vaccinating the population before 2024 or 2025. \n",
            "\n",
            "For these countries, well coordinated lockdowns and strict border policies are still the best bet for ending the virus. \n",
            "\n",
            "Following the China, New Zealand and Australia example may be a better option for many others. \n",
            "\n",
            "The problem is, that the world will hill have two sides. Those with high cases and high vaccination. And those with no cases and low vaccinations. \n",
            "\n",
            "And travel between the two would be incredibly inconvenient. \n",
            "\n",
            "I really think as part of a global strategy we have to focus on lowering case numbers, and not just lowering deaths. I hope British people don't all start travelling to low risk countries.\n",
            "Numbers of vaccinated mean less sick.\n"
          ],
          "name": "stdout"
        },
        {
          "output_type": "error",
          "ename": "AttributeError",
          "evalue": "ignored",
          "traceback": [
            "\u001b[0;31m---------------------------------------------------------------------------\u001b[0m",
            "\u001b[0;31mAttributeError\u001b[0m                            Traceback (most recent call last)",
            "\u001b[0;32m<ipython-input-85-ffe940c994ea>\u001b[0m in \u001b[0;36m<module>\u001b[0;34m()\u001b[0m\n\u001b[1;32m      1\u001b[0m \u001b[0;32mfor\u001b[0m \u001b[0mcomment\u001b[0m \u001b[0;32min\u001b[0m \u001b[0msubmission\u001b[0m\u001b[0;34m.\u001b[0m\u001b[0mcomments\u001b[0m\u001b[0;34m.\u001b[0m\u001b[0mlist\u001b[0m\u001b[0;34m(\u001b[0m\u001b[0;34m)\u001b[0m\u001b[0;34m:\u001b[0m\u001b[0;34m\u001b[0m\u001b[0;34m\u001b[0m\u001b[0m\n\u001b[0;32m----> 2\u001b[0;31m     \u001b[0mprint\u001b[0m\u001b[0;34m(\u001b[0m\u001b[0mcomment\u001b[0m\u001b[0;34m.\u001b[0m\u001b[0mbody\u001b[0m\u001b[0;34m)\u001b[0m\u001b[0;34m\u001b[0m\u001b[0;34m\u001b[0m\u001b[0m\n\u001b[0m",
            "\u001b[0;31mAttributeError\u001b[0m: 'MoreComments' object has no attribute 'body'"
          ]
        }
      ]
    },
    {
      "cell_type": "code",
      "metadata": {
        "colab": {
          "base_uri": "https://localhost:8080/"
        },
        "id": "gaJJccuY6eKF",
        "outputId": "6f6fea9a-c833-488d-de5b-5566b7114768"
      },
      "source": [
        "comments=[]\n",
        "for top_level_comment in submission.comments:\n",
        "  comments.append(top_level_comment.body)\n",
        "  print(top_level_comment.body)\n",
        " "
      ],
      "execution_count": 86,
      "outputs": [
        {
          "output_type": "stream",
          "text": [
            "It’s only the « unknown » to anyone who hasn’t been paying attention to the pandemic.\n",
            "This will be an interesting case study on COVID among the younger segment of the population. It could be a disaster or perhaps break the panic that stems from news of a COVID infection. If the deaths remain low even as cases sky rocket, the perception of the virus could shift.\n",
            "\n",
            "As for the Long COVID fears, does anyone have good studies on the percentage of people who report symptoms broken down by age demographics? I've seen reports of general figures, but I'm curious as to more detailed information.\n",
            "The gov are trying to push a final surge before flu season starts in Autumn. Flu season is predicted to be strong this year with little immunity, and take up a lot of hospital beds, so the idea is we don’t want to be dealing with both covid and flu. \n",
            "\n",
            "So the UK should be one of the most antibody heavy countries in the world by October, by jabs + infections.\n",
            "It’s actually the only example to follow for the world. Vaccinate and then open. Number of cases mean nothing. Number of hospitalizations mean everything.\n",
            "We really gotta learn to live with this virus. Everybody that can get vaccinated just get vaccinated please, we got lives to live out here.\n",
            "Y'all people need to chill. Like wtf, you want to live in this dystopian world where you can't even see friends and family? Fuck that. Vaccination rates are high. Yes cases rising but look, we had concerts, Wimbledon, Euros and we still living. It's long time we get back to the pre-covid normal, or at least a semblance of it\n",
            "This is either going to be Britain's ticket out of the pandemic or an absolute disaster. There is no in-between.\n",
            "\n",
            "We reported an unusually low number of new cases today, at just 39,950. For comparison, two days ago we pushed 54,349 new cases. Whether this is a blip or we've unexpected hit the peak already remains to be seen.\n",
            "I'd really like to see some cost-benefit analyses of this. I'm inclined to be in favour of eliminating restrictions, but it depends on the answers to questions I'm not very sure about, like how likely is it that hospitals will get overwhelmed again? How likely it is that this policy will be the cause of a dangerous new variant arising? How much do people value the freedoms?\n",
            "\n",
            "It's frustratingly often absent from these discussions. Obviously, keeping tighter restrictions will likely prevent Covid cases and deaths. *But is this is a good trade-off?*\n",
            "How is this an unknown? Florida and Texas did it a long time ago, and nearly the entire US is fully open and the sky has not fallen.\n",
            "The Netherlands saw a 20x increase of new cases in just 10 days (From 500 a day to over 10.500 per day currently.) The UK is currently at 50.000 cases per day. Maybe it will not result in a 20x increase, but the rise in cases will be staggering nonetheless.\n",
            "\n",
            "Not all mild cases will recover in 2 weeks. Just because most people will not end up in the hospital, does not mean everything will be fine. This party is going to be brutal.\n",
            "I guess this is how you get the last vaccine hold outs to get inoculated. Either by getting vaccinated, or catching covid. After this they'll have herd immunity. And so far their deaths haven't spiked, so vaccines are obviously working.\n",
            "And if we have leant anything from England from the past week. We are not the brightest of folk.\n",
            "But isn't the US basically already doing this?\n",
            "I'm sure getting a pint down at the pub will be worth having your lungs turn into blood pudding.\n",
            "I don't know the percentage of vaccinated in the UK but if it's enough, there shouldn’t be any problems\n",
            "\n",
            "Oh for chrissake why the downvotes\n",
            "This all or nothing approach is just maddening.\n",
            "I dont know if anyone else has noticed this, but Scotland has seen declining case counts since July 4.\n",
            "Until children can actually get the vaccine we shouldn't be lifting ANY of the restrictions.\n",
            "Johnson has decided to let it rip. It'll be like an episode of Black Mirror.\n",
            "I wonder what do people think the alternative is continue to blotch economy, tell people to keep wearing masks and sit at home, cop the fck up if u feel ur at risk then sure continue to live inside ur bunker, most vulnerable and those in need vaccinated so it's relatively safe, as this pandemic bs will go on for couple more years anyway, thus ppl should make their own decisions what's safe for them and not, no need for nanny state to say everyone should sit at home for two years because Billy down the block could die.\n",
            "Unknown? Has whoever wrote that headline been living in a cave the past year and half?\n",
            "[hospital patients](https://ourworldindata.org/explorers/coronavirus-data-explorer?zoomToSelection=true&time=2020-03-01..latest&pickerSort=desc&pickerMetric=new_cases_smoothed_per_million&Metric=Hospital+patients&Interval=7-day+rolling+average&Relative+to+Population=true&Align+outbreaks=false&country=IND~GBR~DEU)        \n",
            "[hospital admissions](https://ourworldindata.org/explorers/coronavirus-data-explorer?zoomToSelection=true&time=2020-03-01..latest&pickerSort=desc&pickerMetric=new_cases_smoothed_per_million&Metric=Hospital+admissions&Interval=7-day+rolling+average&Relative+to+Population=true&Align+outbreaks=false&country=IND~GBR)    \n",
            "[ICU patients](https://ourworldindata.org/explorers/coronavirus-data-explorer?zoomToSelection=true&time=2020-03-01..latest&pickerSort=desc&pickerMetric=new_cases_smoothed_per_million&Metric=ICU+patients&Interval=7-day+rolling+average&Relative+to+Population=true&Align+outbreaks=false&country=IND~GBR)      \n",
            "[confirmed deaths](https://ourworldindata.org/explorers/coronavirus-data-explorer?zoomToSelection=true&time=2020-03-01..latest&pickerSort=desc&pickerMetric=new_cases_smoothed_per_million&Metric=Confirmed+deaths&Interval=7-day+rolling+average&Relative+to+Population=true&Align+outbreaks=false&country=~GBR)\n",
            "\n",
            "Let's hope that all these graphs won't go very high in the next weeks.\n",
            "Still waiting for my second dose, but I don’t think I’ll stop wearing my mask even after I’ve had the second jab.\n",
            "Covid hospitalization is already rising. https://ourworldindata.org/grapher/uk-daily-covid-admissions \n",
            "\n",
            "I would be very upset if I was a healthcare worker in the UK.\n",
            "!remindme 2 months\n",
            "Unknown??? \n",
            "\n",
            "Even without looking into my crystal ball, I'm sure that there's going to be another wave of infections.  Hospitalization, deaths and another variant are bound to follow.\n",
            "Not a leap into the unknown, a leap into the icu\n",
            "England finds clever to shoot themselves in the foot. Standby for the \"in hindsight we shouldn't have done that\" reactions! \n",
            "Though English pride goes a long way!\n",
            "As a man of numbers, I find the whole ordeal a bit surreal. Initially, yes we had every reason to think covid was going to hit us really, really hard. Fortunately, it didn't. Again, just talking about numbers here, which might seem inhumane, but important to get this into context:\n",
            "\n",
            "heart attacks kill 18M people globally per year\n",
            "\n",
            "cancer kills around 10M\n",
            "\n",
            "Even diarrhea kills more people a year than covid did.\n",
            "\n",
            "&#x200B;\n",
            "\n",
            "Let us find a way back to normalty together. Life must go on.\n",
            "After what happened in The Netherlands just weeks ago, i think that UK is on a very very bad trajectory.\n",
            "[removed]\n",
            "I, for one, think it's best to do this before school starts\n",
            "\n",
            "If things go south, then they can lock down again.\n",
            "Is England mad the UK variant isn’t top dog globally anymore and wants to ensure they manufacture a worse variant?\n",
            "[deleted]\n",
            "Boris Johnson is setting a great example by quarantining after coming in contact with someone who tested positive.\n",
            "Oh oh!!\n",
            "So the UK is just gonna cull its people then. OK.\n",
            "It’s an unusual strategy, Cotton. Let’s see if it works for them.\n",
            "why is UK government so stupid.  this is gonna end badly in 2-3 weeks for sure.  we've seen this movie for 15 months.\n",
            "[removed]\n",
            "\"unknown\"\n",
            "\n",
            "I don't know but I think we set a perfect example of what *not* to do.\n",
            "Unfortunately our government is more apt at listening to a few back bench MPs than the public and the health services.\n",
            "[removed]\n",
            "Ah, the ol’ “Fuck it…” ploy.\n",
            "I'm sure this will have totally predictable results\n",
            "Unknown? Bruh literally look to your right and you’ll see it, small country there is surging with cases after having done the same.\n",
            "Mi Nan says - Fook Covid\n",
            "England is basically saying “fck it, we’ll move on without the unvaccinated”.\n",
            "\"Please, please, please be cautious\" he says to the flood as he opens the floodgates.\n",
            "“Man takes leap into the unknown, pours gasoline onto an open flame”\n",
            "It has been nearly 2 years... At a certain point, people won't tolerate indefinite restrictions.\n",
            "I actually agree with Boris on this one. If u don't open up now when do you? Also its hear to stay.... If its this Yr or next. Everyone is going to get it eventually. Let's do this\n",
            "GASP! something that's fractions more deadly than the common flu\n",
            "How fucking stupid is the person who wrote this headline? \n",
            "\n",
            "UNKNOWN ?!?! ARE YOU KIDDING US ?!?!?\n",
            "good. if scared stay in your box. 🤷\n",
            "Unknown to anyone with an IQ < 20\n",
            "Good luck with that! Let us know how that goes for you.\n",
            "[removed]\n",
            "Morons\n",
            "This is reckless. Worse part is that if a new variant is born out of this, we will all find out with them.\n"
          ],
          "name": "stdout"
        }
      ]
    },
    {
      "cell_type": "code",
      "metadata": {
        "id": "Mn1LQrPJBUsv"
      },
      "source": [
        "import pandas as pd\n",
        "import numpy as np\n"
      ],
      "execution_count": 87,
      "outputs": []
    },
    {
      "cell_type": "code",
      "metadata": {
        "id": "iAS-p1iDBFlO"
      },
      "source": [
        "List=[]\n",
        "List=comments\n",
        "List =[str(i) for i in List]\n",
        "string_uncleaned= ' , '.join(List)"
      ],
      "execution_count": 88,
      "outputs": []
    },
    {
      "cell_type": "code",
      "metadata": {
        "id": "dAC_LTPFF0fa",
        "colab": {
          "base_uri": "https://localhost:8080/",
          "height": 107
        },
        "outputId": "1beb6412-93c1-4282-abd1-03cd5bcfecad"
      },
      "source": [
        "string_uncleaned"
      ],
      "execution_count": 89,
      "outputs": [
        {
          "output_type": "execute_result",
          "data": {
            "application/vnd.google.colaboratory.intrinsic+json": {
              "type": "string"
            },
            "text/plain": [
              "'It’s only the «\\xa0unknown\\xa0» to anyone who hasn’t been paying attention to the pandemic. , This will be an interesting case study on COVID among the younger segment of the population. It could be a disaster or perhaps break the panic that stems from news of a COVID infection. If the deaths remain low even as cases sky rocket, the perception of the virus could shift.\\n\\nAs for the Long COVID fears, does anyone have good studies on the percentage of people who report symptoms broken down by age demographics? I\\'ve seen reports of general figures, but I\\'m curious as to more detailed information. , The gov are trying to push a final surge before flu season starts in Autumn. Flu season is predicted to be strong this year with little immunity, and take up a lot of hospital beds, so the idea is we don’t want to be dealing with both covid and flu. \\n\\nSo the UK should be one of the most antibody heavy countries in the world by October, by jabs + infections. , It’s actually the only example to follow for the world. Vaccinate and then open. Number of cases mean nothing. Number of hospitalizations mean everything. , We really gotta learn to live with this virus. Everybody that can get vaccinated just get vaccinated please, we got lives to live out here. , Y\\'all people need to chill. Like wtf, you want to live in this dystopian world where you can\\'t even see friends and family? Fuck that. Vaccination rates are high. Yes cases rising but look, we had concerts, Wimbledon, Euros and we still living. It\\'s long time we get back to the pre-covid normal, or at least a semblance of it , This is either going to be Britain\\'s ticket out of the pandemic or an absolute disaster. There is no in-between.\\n\\nWe reported an unusually low number of new cases today, at just 39,950. For comparison, two days ago we pushed 54,349 new cases. Whether this is a blip or we\\'ve unexpected hit the peak already remains to be seen. , I\\'d really like to see some cost-benefit analyses of this. I\\'m inclined to be in favour of eliminating restrictions, but it depends on the answers to questions I\\'m not very sure about, like how likely is it that hospitals will get overwhelmed again? How likely it is that this policy will be the cause of a dangerous new variant arising? How much do people value the freedoms?\\n\\nIt\\'s frustratingly often absent from these discussions. Obviously, keeping tighter restrictions will likely prevent Covid cases and deaths. *But is this is a good trade-off?* , How is this an unknown? Florida and Texas did it a long time ago, and nearly the entire US is fully open and the sky has not fallen. , The Netherlands saw a 20x increase of new cases in just 10 days (From 500 a day to over 10.500 per day currently.) The UK is currently at 50.000 cases per day. Maybe it will not result in a 20x increase, but the rise in cases will be staggering nonetheless.\\n\\nNot all mild cases will recover in 2 weeks. Just because most people will not end up in the hospital, does not mean everything will be fine. This party is going to be brutal. , I guess this is how you get the last vaccine hold outs to get inoculated. Either by getting vaccinated, or catching covid. After this they\\'ll have herd immunity. And so far their deaths haven\\'t spiked, so vaccines are obviously working. , And if we have leant anything from England from the past week. We are not the brightest of folk. , But isn\\'t the US basically already doing this? , I\\'m sure getting a pint down at the pub will be worth having your lungs turn into blood pudding. , I don\\'t know the percentage of vaccinated in the UK but if it\\'s enough, there shouldn’t be any problems\\n\\nOh for chrissake why the downvotes , This all or nothing approach is just maddening. , I dont know if anyone else has noticed this, but Scotland has seen declining case counts since July 4. , Until children can actually get the vaccine we shouldn\\'t be lifting ANY of the restrictions. , Johnson has decided to let it rip. It\\'ll be like an episode of Black Mirror. , I wonder what do people think the alternative is continue to blotch economy, tell people to keep wearing masks and sit at home, cop the fck up if u feel ur at risk then sure continue to live inside ur bunker, most vulnerable and those in need vaccinated so it\\'s relatively safe, as this pandemic bs will go on for couple more years anyway, thus ppl should make their own decisions what\\'s safe for them and not, no need for nanny state to say everyone should sit at home for two years because Billy down the block could die. , Unknown? Has whoever wrote that headline been living in a cave the past year and half? , [hospital patients](https://ourworldindata.org/explorers/coronavirus-data-explorer?zoomToSelection=true&time=2020-03-01..latest&pickerSort=desc&pickerMetric=new_cases_smoothed_per_million&Metric=Hospital+patients&Interval=7-day+rolling+average&Relative+to+Population=true&Align+outbreaks=false&country=IND~GBR~DEU)        \\n[hospital admissions](https://ourworldindata.org/explorers/coronavirus-data-explorer?zoomToSelection=true&time=2020-03-01..latest&pickerSort=desc&pickerMetric=new_cases_smoothed_per_million&Metric=Hospital+admissions&Interval=7-day+rolling+average&Relative+to+Population=true&Align+outbreaks=false&country=IND~GBR)    \\n[ICU patients](https://ourworldindata.org/explorers/coronavirus-data-explorer?zoomToSelection=true&time=2020-03-01..latest&pickerSort=desc&pickerMetric=new_cases_smoothed_per_million&Metric=ICU+patients&Interval=7-day+rolling+average&Relative+to+Population=true&Align+outbreaks=false&country=IND~GBR)      \\n[confirmed deaths](https://ourworldindata.org/explorers/coronavirus-data-explorer?zoomToSelection=true&time=2020-03-01..latest&pickerSort=desc&pickerMetric=new_cases_smoothed_per_million&Metric=Confirmed+deaths&Interval=7-day+rolling+average&Relative+to+Population=true&Align+outbreaks=false&country=~GBR)\\n\\nLet\\'s hope that all these graphs won\\'t go very high in the next weeks. , Still waiting for my second dose, but I don’t think I’ll stop wearing my mask even after I’ve had the second jab. , Covid hospitalization is already rising. https://ourworldindata.org/grapher/uk-daily-covid-admissions \\n\\nI would be very upset if I was a healthcare worker in the UK. , !remindme 2 months , Unknown??? \\n\\nEven without looking into my crystal ball, I\\'m sure that there\\'s going to be another wave of infections.  Hospitalization, deaths and another variant are bound to follow. , Not a leap into the unknown, a leap into the icu , England finds clever to shoot themselves in the foot. Standby for the \"in hindsight we shouldn\\'t have done that\" reactions! \\nThough English pride goes a long way! , As a man of numbers, I find the whole ordeal a bit surreal. Initially, yes we had every reason to think covid was going to hit us really, really hard. Fortunately, it didn\\'t. Again, just talking about numbers here, which might seem inhumane, but important to get this into context:\\n\\nheart attacks kill 18M people globally per year\\n\\ncancer kills around 10M\\n\\nEven diarrhea kills more people a year than covid did.\\n\\n&#x200B;\\n\\nLet us find a way back to normalty together. Life must go on. , After what happened in The Netherlands just weeks ago, i think that UK is on a very very bad trajectory. , [removed] , I, for one, think it\\'s best to do this before school starts\\n\\nIf things go south, then they can lock down again. , Is England mad the UK variant isn’t top dog globally anymore and wants to ensure they manufacture a worse variant? , [deleted] , Boris Johnson is setting a great example by quarantining after coming in contact with someone who tested positive. , Oh oh!! , So the UK is just gonna cull its people then. OK. , It’s an unusual strategy, Cotton. Let’s see if it works for them. , why is UK government so stupid.  this is gonna end badly in 2-3 weeks for sure.  we\\'ve seen this movie for 15 months. , [removed] , \"unknown\"\\n\\nI don\\'t know but I think we set a perfect example of what *not* to do. , Unfortunately our government is more apt at listening to a few back bench MPs than the public and the health services. , [removed] , Ah, the ol’ “Fuck it…” ploy. , I\\'m sure this will have totally predictable results , Unknown? Bruh literally look to your right and you’ll see it, small country there is surging with cases after having done the same. , Mi Nan says - Fook Covid , England is basically saying “fck it, we’ll move on without the unvaccinated”. , \"Please, please, please be cautious\" he says to the flood as he opens the floodgates. , “Man takes leap into the unknown, pours gasoline onto an open flame” , It has been nearly 2 years... At a certain point, people won\\'t tolerate indefinite restrictions. , I actually agree with Boris on this one. If u don\\'t open up now when do you? Also its hear to stay.... If its this Yr or next. Everyone is going to get it eventually. Let\\'s do this , GASP! something that\\'s fractions more deadly than the common flu , How fucking stupid is the person who wrote this headline? \\n\\nUNKNOWN ?!?! ARE YOU KIDDING US ?!?!? , good. if scared stay in your box. 🤷 , Unknown to anyone with an IQ < 20 , Good luck with that! Let us know how that goes for you. , [removed] , Morons , This is reckless. Worse part is that if a new variant is born out of this, we will all find out with them.'"
            ]
          },
          "metadata": {
            "tags": []
          },
          "execution_count": 89
        }
      ]
    },
    {
      "cell_type": "code",
      "metadata": {
        "id": "3FJDyqp-RB-2"
      },
      "source": [
        "from nltk.corpus import stopwords\n",
        "from nltk.tokenize import RegexpTokenizer\n",
        "from nltk.stem import WordNetLemmatizer\n",
        "from nltk.stem import PorterStemmer\n",
        "from nltk import FreqDist\n",
        "import en_core_web_sm\n",
        "import spacy"
      ],
      "execution_count": 90,
      "outputs": []
    },
    {
      "cell_type": "code",
      "metadata": {
        "id": "9BpWinNpRXHk"
      },
      "source": [
        "tokenizer = RegexpTokenizer('\\w+|\\$[\\d\\.]+|https\\S+')"
      ],
      "execution_count": 91,
      "outputs": []
    },
    {
      "cell_type": "code",
      "metadata": {
        "id": "zcY-0tMXRn-R"
      },
      "source": [
        "tokenized_string= tokenizer.tokenize(string_uncleaned)"
      ],
      "execution_count": 92,
      "outputs": []
    },
    {
      "cell_type": "code",
      "metadata": {
        "colab": {
          "base_uri": "https://localhost:8080/"
        },
        "id": "WVizmmIvRvtQ",
        "outputId": "c743fbb0-4ba9-44fc-c709-430617cb30ad"
      },
      "source": [
        "print(tokenized_string)"
      ],
      "execution_count": 93,
      "outputs": [
        {
          "output_type": "stream",
          "text": [
            "['It', 's', 'only', 'the', 'unknown', 'to', 'anyone', 'who', 'hasn', 't', 'been', 'paying', 'attention', 'to', 'the', 'pandemic', 'This', 'will', 'be', 'an', 'interesting', 'case', 'study', 'on', 'COVID', 'among', 'the', 'younger', 'segment', 'of', 'the', 'population', 'It', 'could', 'be', 'a', 'disaster', 'or', 'perhaps', 'break', 'the', 'panic', 'that', 'stems', 'from', 'news', 'of', 'a', 'COVID', 'infection', 'If', 'the', 'deaths', 'remain', 'low', 'even', 'as', 'cases', 'sky', 'rocket', 'the', 'perception', 'of', 'the', 'virus', 'could', 'shift', 'As', 'for', 'the', 'Long', 'COVID', 'fears', 'does', 'anyone', 'have', 'good', 'studies', 'on', 'the', 'percentage', 'of', 'people', 'who', 'report', 'symptoms', 'broken', 'down', 'by', 'age', 'demographics', 'I', 've', 'seen', 'reports', 'of', 'general', 'figures', 'but', 'I', 'm', 'curious', 'as', 'to', 'more', 'detailed', 'information', 'The', 'gov', 'are', 'trying', 'to', 'push', 'a', 'final', 'surge', 'before', 'flu', 'season', 'starts', 'in', 'Autumn', 'Flu', 'season', 'is', 'predicted', 'to', 'be', 'strong', 'this', 'year', 'with', 'little', 'immunity', 'and', 'take', 'up', 'a', 'lot', 'of', 'hospital', 'beds', 'so', 'the', 'idea', 'is', 'we', 'don', 't', 'want', 'to', 'be', 'dealing', 'with', 'both', 'covid', 'and', 'flu', 'So', 'the', 'UK', 'should', 'be', 'one', 'of', 'the', 'most', 'antibody', 'heavy', 'countries', 'in', 'the', 'world', 'by', 'October', 'by', 'jabs', 'infections', 'It', 's', 'actually', 'the', 'only', 'example', 'to', 'follow', 'for', 'the', 'world', 'Vaccinate', 'and', 'then', 'open', 'Number', 'of', 'cases', 'mean', 'nothing', 'Number', 'of', 'hospitalizations', 'mean', 'everything', 'We', 'really', 'gotta', 'learn', 'to', 'live', 'with', 'this', 'virus', 'Everybody', 'that', 'can', 'get', 'vaccinated', 'just', 'get', 'vaccinated', 'please', 'we', 'got', 'lives', 'to', 'live', 'out', 'here', 'Y', 'all', 'people', 'need', 'to', 'chill', 'Like', 'wtf', 'you', 'want', 'to', 'live', 'in', 'this', 'dystopian', 'world', 'where', 'you', 'can', 't', 'even', 'see', 'friends', 'and', 'family', 'Fuck', 'that', 'Vaccination', 'rates', 'are', 'high', 'Yes', 'cases', 'rising', 'but', 'look', 'we', 'had', 'concerts', 'Wimbledon', 'Euros', 'and', 'we', 'still', 'living', 'It', 's', 'long', 'time', 'we', 'get', 'back', 'to', 'the', 'pre', 'covid', 'normal', 'or', 'at', 'least', 'a', 'semblance', 'of', 'it', 'This', 'is', 'either', 'going', 'to', 'be', 'Britain', 's', 'ticket', 'out', 'of', 'the', 'pandemic', 'or', 'an', 'absolute', 'disaster', 'There', 'is', 'no', 'in', 'between', 'We', 'reported', 'an', 'unusually', 'low', 'number', 'of', 'new', 'cases', 'today', 'at', 'just', '39', '950', 'For', 'comparison', 'two', 'days', 'ago', 'we', 'pushed', '54', '349', 'new', 'cases', 'Whether', 'this', 'is', 'a', 'blip', 'or', 'we', 've', 'unexpected', 'hit', 'the', 'peak', 'already', 'remains', 'to', 'be', 'seen', 'I', 'd', 'really', 'like', 'to', 'see', 'some', 'cost', 'benefit', 'analyses', 'of', 'this', 'I', 'm', 'inclined', 'to', 'be', 'in', 'favour', 'of', 'eliminating', 'restrictions', 'but', 'it', 'depends', 'on', 'the', 'answers', 'to', 'questions', 'I', 'm', 'not', 'very', 'sure', 'about', 'like', 'how', 'likely', 'is', 'it', 'that', 'hospitals', 'will', 'get', 'overwhelmed', 'again', 'How', 'likely', 'it', 'is', 'that', 'this', 'policy', 'will', 'be', 'the', 'cause', 'of', 'a', 'dangerous', 'new', 'variant', 'arising', 'How', 'much', 'do', 'people', 'value', 'the', 'freedoms', 'It', 's', 'frustratingly', 'often', 'absent', 'from', 'these', 'discussions', 'Obviously', 'keeping', 'tighter', 'restrictions', 'will', 'likely', 'prevent', 'Covid', 'cases', 'and', 'deaths', 'But', 'is', 'this', 'is', 'a', 'good', 'trade', 'off', 'How', 'is', 'this', 'an', 'unknown', 'Florida', 'and', 'Texas', 'did', 'it', 'a', 'long', 'time', 'ago', 'and', 'nearly', 'the', 'entire', 'US', 'is', 'fully', 'open', 'and', 'the', 'sky', 'has', 'not', 'fallen', 'The', 'Netherlands', 'saw', 'a', '20x', 'increase', 'of', 'new', 'cases', 'in', 'just', '10', 'days', 'From', '500', 'a', 'day', 'to', 'over', '10', '500', 'per', 'day', 'currently', 'The', 'UK', 'is', 'currently', 'at', '50', '000', 'cases', 'per', 'day', 'Maybe', 'it', 'will', 'not', 'result', 'in', 'a', '20x', 'increase', 'but', 'the', 'rise', 'in', 'cases', 'will', 'be', 'staggering', 'nonetheless', 'Not', 'all', 'mild', 'cases', 'will', 'recover', 'in', '2', 'weeks', 'Just', 'because', 'most', 'people', 'will', 'not', 'end', 'up', 'in', 'the', 'hospital', 'does', 'not', 'mean', 'everything', 'will', 'be', 'fine', 'This', 'party', 'is', 'going', 'to', 'be', 'brutal', 'I', 'guess', 'this', 'is', 'how', 'you', 'get', 'the', 'last', 'vaccine', 'hold', 'outs', 'to', 'get', 'inoculated', 'Either', 'by', 'getting', 'vaccinated', 'or', 'catching', 'covid', 'After', 'this', 'they', 'll', 'have', 'herd', 'immunity', 'And', 'so', 'far', 'their', 'deaths', 'haven', 't', 'spiked', 'so', 'vaccines', 'are', 'obviously', 'working', 'And', 'if', 'we', 'have', 'leant', 'anything', 'from', 'England', 'from', 'the', 'past', 'week', 'We', 'are', 'not', 'the', 'brightest', 'of', 'folk', 'But', 'isn', 't', 'the', 'US', 'basically', 'already', 'doing', 'this', 'I', 'm', 'sure', 'getting', 'a', 'pint', 'down', 'at', 'the', 'pub', 'will', 'be', 'worth', 'having', 'your', 'lungs', 'turn', 'into', 'blood', 'pudding', 'I', 'don', 't', 'know', 'the', 'percentage', 'of', 'vaccinated', 'in', 'the', 'UK', 'but', 'if', 'it', 's', 'enough', 'there', 'shouldn', 't', 'be', 'any', 'problems', 'Oh', 'for', 'chrissake', 'why', 'the', 'downvotes', 'This', 'all', 'or', 'nothing', 'approach', 'is', 'just', 'maddening', 'I', 'dont', 'know', 'if', 'anyone', 'else', 'has', 'noticed', 'this', 'but', 'Scotland', 'has', 'seen', 'declining', 'case', 'counts', 'since', 'July', '4', 'Until', 'children', 'can', 'actually', 'get', 'the', 'vaccine', 'we', 'shouldn', 't', 'be', 'lifting', 'ANY', 'of', 'the', 'restrictions', 'Johnson', 'has', 'decided', 'to', 'let', 'it', 'rip', 'It', 'll', 'be', 'like', 'an', 'episode', 'of', 'Black', 'Mirror', 'I', 'wonder', 'what', 'do', 'people', 'think', 'the', 'alternative', 'is', 'continue', 'to', 'blotch', 'economy', 'tell', 'people', 'to', 'keep', 'wearing', 'masks', 'and', 'sit', 'at', 'home', 'cop', 'the', 'fck', 'up', 'if', 'u', 'feel', 'ur', 'at', 'risk', 'then', 'sure', 'continue', 'to', 'live', 'inside', 'ur', 'bunker', 'most', 'vulnerable', 'and', 'those', 'in', 'need', 'vaccinated', 'so', 'it', 's', 'relatively', 'safe', 'as', 'this', 'pandemic', 'bs', 'will', 'go', 'on', 'for', 'couple', 'more', 'years', 'anyway', 'thus', 'ppl', 'should', 'make', 'their', 'own', 'decisions', 'what', 's', 'safe', 'for', 'them', 'and', 'not', 'no', 'need', 'for', 'nanny', 'state', 'to', 'say', 'everyone', 'should', 'sit', 'at', 'home', 'for', 'two', 'years', 'because', 'Billy', 'down', 'the', 'block', 'could', 'die', 'Unknown', 'Has', 'whoever', 'wrote', 'that', 'headline', 'been', 'living', 'in', 'a', 'cave', 'the', 'past', 'year', 'and', 'half', 'hospital', 'patients', 'https', 'ourworldindata', 'org', 'explorers', 'coronavirus', 'data', 'explorer', 'zoomToSelection', 'true', 'time', '2020', '03', '01', 'latest', 'pickerSort', 'desc', 'pickerMetric', 'new_cases_smoothed_per_million', 'Metric', 'Hospital', 'patients', 'Interval', '7', 'day', 'rolling', 'average', 'Relative', 'to', 'Population', 'true', 'Align', 'outbreaks', 'false', 'country', 'IND', 'GBR', 'DEU', 'hospital', 'admissions', 'https', 'ourworldindata', 'org', 'explorers', 'coronavirus', 'data', 'explorer', 'zoomToSelection', 'true', 'time', '2020', '03', '01', 'latest', 'pickerSort', 'desc', 'pickerMetric', 'new_cases_smoothed_per_million', 'Metric', 'Hospital', 'admissions', 'Interval', '7', 'day', 'rolling', 'average', 'Relative', 'to', 'Population', 'true', 'Align', 'outbreaks', 'false', 'country', 'IND', 'GBR', 'ICU', 'patients', 'https', 'ourworldindata', 'org', 'explorers', 'coronavirus', 'data', 'explorer', 'zoomToSelection', 'true', 'time', '2020', '03', '01', 'latest', 'pickerSort', 'desc', 'pickerMetric', 'new_cases_smoothed_per_million', 'Metric', 'ICU', 'patients', 'Interval', '7', 'day', 'rolling', 'average', 'Relative', 'to', 'Population', 'true', 'Align', 'outbreaks', 'false', 'country', 'IND', 'GBR', 'confirmed', 'deaths', 'https', 'ourworldindata', 'org', 'explorers', 'coronavirus', 'data', 'explorer', 'zoomToSelection', 'true', 'time', '2020', '03', '01', 'latest', 'pickerSort', 'desc', 'pickerMetric', 'new_cases_smoothed_per_million', 'Metric', 'Confirmed', 'deaths', 'Interval', '7', 'day', 'rolling', 'average', 'Relative', 'to', 'Population', 'true', 'Align', 'outbreaks', 'false', 'country', 'GBR', 'Let', 's', 'hope', 'that', 'all', 'these', 'graphs', 'won', 't', 'go', 'very', 'high', 'in', 'the', 'next', 'weeks', 'Still', 'waiting', 'for', 'my', 'second', 'dose', 'but', 'I', 'don', 't', 'think', 'I', 'll', 'stop', 'wearing', 'my', 'mask', 'even', 'after', 'I', 've', 'had', 'the', 'second', 'jab', 'Covid', 'hospitalization', 'is', 'already', 'rising', 'https', 'ourworldindata', 'org', 'grapher', 'uk', 'daily', 'covid', 'admissions', 'I', 'would', 'be', 'very', 'upset', 'if', 'I', 'was', 'a', 'healthcare', 'worker', 'in', 'the', 'UK', 'remindme', '2', 'months', 'Unknown', 'Even', 'without', 'looking', 'into', 'my', 'crystal', 'ball', 'I', 'm', 'sure', 'that', 'there', 's', 'going', 'to', 'be', 'another', 'wave', 'of', 'infections', 'Hospitalization', 'deaths', 'and', 'another', 'variant', 'are', 'bound', 'to', 'follow', 'Not', 'a', 'leap', 'into', 'the', 'unknown', 'a', 'leap', 'into', 'the', 'icu', 'England', 'finds', 'clever', 'to', 'shoot', 'themselves', 'in', 'the', 'foot', 'Standby', 'for', 'the', 'in', 'hindsight', 'we', 'shouldn', 't', 'have', 'done', 'that', 'reactions', 'Though', 'English', 'pride', 'goes', 'a', 'long', 'way', 'As', 'a', 'man', 'of', 'numbers', 'I', 'find', 'the', 'whole', 'ordeal', 'a', 'bit', 'surreal', 'Initially', 'yes', 'we', 'had', 'every', 'reason', 'to', 'think', 'covid', 'was', 'going', 'to', 'hit', 'us', 'really', 'really', 'hard', 'Fortunately', 'it', 'didn', 't', 'Again', 'just', 'talking', 'about', 'numbers', 'here', 'which', 'might', 'seem', 'inhumane', 'but', 'important', 'to', 'get', 'this', 'into', 'context', 'heart', 'attacks', 'kill', '18M', 'people', 'globally', 'per', 'year', 'cancer', 'kills', 'around', '10M', 'Even', 'diarrhea', 'kills', 'more', 'people', 'a', 'year', 'than', 'covid', 'did', 'x200B', 'Let', 'us', 'find', 'a', 'way', 'back', 'to', 'normalty', 'together', 'Life', 'must', 'go', 'on', 'After', 'what', 'happened', 'in', 'The', 'Netherlands', 'just', 'weeks', 'ago', 'i', 'think', 'that', 'UK', 'is', 'on', 'a', 'very', 'very', 'bad', 'trajectory', 'removed', 'I', 'for', 'one', 'think', 'it', 's', 'best', 'to', 'do', 'this', 'before', 'school', 'starts', 'If', 'things', 'go', 'south', 'then', 'they', 'can', 'lock', 'down', 'again', 'Is', 'England', 'mad', 'the', 'UK', 'variant', 'isn', 't', 'top', 'dog', 'globally', 'anymore', 'and', 'wants', 'to', 'ensure', 'they', 'manufacture', 'a', 'worse', 'variant', 'deleted', 'Boris', 'Johnson', 'is', 'setting', 'a', 'great', 'example', 'by', 'quarantining', 'after', 'coming', 'in', 'contact', 'with', 'someone', 'who', 'tested', 'positive', 'Oh', 'oh', 'So', 'the', 'UK', 'is', 'just', 'gonna', 'cull', 'its', 'people', 'then', 'OK', 'It', 's', 'an', 'unusual', 'strategy', 'Cotton', 'Let', 's', 'see', 'if', 'it', 'works', 'for', 'them', 'why', 'is', 'UK', 'government', 'so', 'stupid', 'this', 'is', 'gonna', 'end', 'badly', 'in', '2', '3', 'weeks', 'for', 'sure', 'we', 've', 'seen', 'this', 'movie', 'for', '15', 'months', 'removed', 'unknown', 'I', 'don', 't', 'know', 'but', 'I', 'think', 'we', 'set', 'a', 'perfect', 'example', 'of', 'what', 'not', 'to', 'do', 'Unfortunately', 'our', 'government', 'is', 'more', 'apt', 'at', 'listening', 'to', 'a', 'few', 'back', 'bench', 'MPs', 'than', 'the', 'public', 'and', 'the', 'health', 'services', 'removed', 'Ah', 'the', 'ol', 'Fuck', 'it', 'ploy', 'I', 'm', 'sure', 'this', 'will', 'have', 'totally', 'predictable', 'results', 'Unknown', 'Bruh', 'literally', 'look', 'to', 'your', 'right', 'and', 'you', 'll', 'see', 'it', 'small', 'country', 'there', 'is', 'surging', 'with', 'cases', 'after', 'having', 'done', 'the', 'same', 'Mi', 'Nan', 'says', 'Fook', 'Covid', 'England', 'is', 'basically', 'saying', 'fck', 'it', 'we', 'll', 'move', 'on', 'without', 'the', 'unvaccinated', 'Please', 'please', 'please', 'be', 'cautious', 'he', 'says', 'to', 'the', 'flood', 'as', 'he', 'opens', 'the', 'floodgates', 'Man', 'takes', 'leap', 'into', 'the', 'unknown', 'pours', 'gasoline', 'onto', 'an', 'open', 'flame', 'It', 'has', 'been', 'nearly', '2', 'years', 'At', 'a', 'certain', 'point', 'people', 'won', 't', 'tolerate', 'indefinite', 'restrictions', 'I', 'actually', 'agree', 'with', 'Boris', 'on', 'this', 'one', 'If', 'u', 'don', 't', 'open', 'up', 'now', 'when', 'do', 'you', 'Also', 'its', 'hear', 'to', 'stay', 'If', 'its', 'this', 'Yr', 'or', 'next', 'Everyone', 'is', 'going', 'to', 'get', 'it', 'eventually', 'Let', 's', 'do', 'this', 'GASP', 'something', 'that', 's', 'fractions', 'more', 'deadly', 'than', 'the', 'common', 'flu', 'How', 'fucking', 'stupid', 'is', 'the', 'person', 'who', 'wrote', 'this', 'headline', 'UNKNOWN', 'ARE', 'YOU', 'KIDDING', 'US', 'good', 'if', 'scared', 'stay', 'in', 'your', 'box', 'Unknown', 'to', 'anyone', 'with', 'an', 'IQ', '20', 'Good', 'luck', 'with', 'that', 'Let', 'us', 'know', 'how', 'that', 'goes', 'for', 'you', 'removed', 'Morons', 'This', 'is', 'reckless', 'Worse', 'part', 'is', 'that', 'if', 'a', 'new', 'variant', 'is', 'born', 'out', 'of', 'this', 'we', 'will', 'all', 'find', 'out', 'with', 'them']\n"
          ],
          "name": "stdout"
        }
      ]
    },
    {
      "cell_type": "code",
      "metadata": {
        "id": "NhuFu4cTRx22"
      },
      "source": [
        "lower_string_token= [word.lower() for word in tokenized_string]\n",
        "nlp= en_core_web_sm.load()\n",
        "all_stopwords= nlp.Defaults.stop_words\n",
        "text = lower_string_token"
      ],
      "execution_count": 94,
      "outputs": []
    },
    {
      "cell_type": "code",
      "metadata": {
        "colab": {
          "base_uri": "https://localhost:8080/"
        },
        "id": "93rM08NiSRz1",
        "outputId": "88e0c507-e76a-4980-a71e-479bcd2e1f42"
      },
      "source": [
        "tokens_without_sw= [word for word in text if not word in all_stopwords]\n",
        "print(tokens_without_sw)"
      ],
      "execution_count": 95,
      "outputs": [
        {
          "output_type": "stream",
          "text": [
            "['s', 'unknown', 'hasn', 't', 'paying', 'attention', 'pandemic', 'interesting', 'case', 'study', 'covid', 'younger', 'segment', 'population', 'disaster', 'break', 'panic', 'stems', 'news', 'covid', 'infection', 'deaths', 'remain', 'low', 'cases', 'sky', 'rocket', 'perception', 'virus', 'shift', 'long', 'covid', 'fears', 'good', 'studies', 'percentage', 'people', 'report', 'symptoms', 'broken', 'age', 'demographics', 've', 'seen', 'reports', 'general', 'figures', 'm', 'curious', 'detailed', 'information', 'gov', 'trying', 'push', 'final', 'surge', 'flu', 'season', 'starts', 'autumn', 'flu', 'season', 'predicted', 'strong', 'year', 'little', 'immunity', 'lot', 'hospital', 'beds', 'idea', 'don', 't', 'want', 'dealing', 'covid', 'flu', 'uk', 'antibody', 'heavy', 'countries', 'world', 'october', 'jabs', 'infections', 's', 'actually', 'example', 'follow', 'world', 'vaccinate', 'open', 'number', 'cases', 'mean', 'number', 'hospitalizations', 'mean', 'gotta', 'learn', 'live', 'virus', 'everybody', 'vaccinated', 'vaccinated', 'got', 'lives', 'live', 'y', 'people', 'need', 'chill', 'like', 'wtf', 'want', 'live', 'dystopian', 'world', 't', 'friends', 'family', 'fuck', 'vaccination', 'rates', 'high', 'yes', 'cases', 'rising', 'look', 'concerts', 'wimbledon', 'euros', 'living', 's', 'long', 'time', 'pre', 'covid', 'normal', 'semblance', 'going', 'britain', 's', 'ticket', 'pandemic', 'absolute', 'disaster', 'reported', 'unusually', 'low', 'number', 'new', 'cases', 'today', '39', '950', 'comparison', 'days', 'ago', 'pushed', '54', '349', 'new', 'cases', 'blip', 've', 'unexpected', 'hit', 'peak', 'remains', 'seen', 'd', 'like', 'cost', 'benefit', 'analyses', 'm', 'inclined', 'favour', 'eliminating', 'restrictions', 'depends', 'answers', 'questions', 'm', 'sure', 'like', 'likely', 'hospitals', 'overwhelmed', 'likely', 'policy', 'cause', 'dangerous', 'new', 'variant', 'arising', 'people', 'value', 'freedoms', 's', 'frustratingly', 'absent', 'discussions', 'obviously', 'keeping', 'tighter', 'restrictions', 'likely', 'prevent', 'covid', 'cases', 'deaths', 'good', 'trade', 'unknown', 'florida', 'texas', 'long', 'time', 'ago', 'nearly', 'entire', 'fully', 'open', 'sky', 'fallen', 'netherlands', 'saw', '20x', 'increase', 'new', 'cases', '10', 'days', '500', 'day', '10', '500', 'day', 'currently', 'uk', 'currently', '50', '000', 'cases', 'day', 'maybe', 'result', '20x', 'increase', 'rise', 'cases', 'staggering', 'nonetheless', 'mild', 'cases', 'recover', '2', 'weeks', 'people', 'end', 'hospital', 'mean', 'fine', 'party', 'going', 'brutal', 'guess', 'vaccine', 'hold', 'outs', 'inoculated', 'getting', 'vaccinated', 'catching', 'covid', 'll', 'herd', 'immunity', 'far', 'deaths', 'haven', 't', 'spiked', 'vaccines', 'obviously', 'working', 'leant', 'england', 'past', 'week', 'brightest', 'folk', 'isn', 't', 'basically', 'm', 'sure', 'getting', 'pint', 'pub', 'worth', 'having', 'lungs', 'turn', 'blood', 'pudding', 'don', 't', 'know', 'percentage', 'vaccinated', 'uk', 's', 'shouldn', 't', 'problems', 'oh', 'chrissake', 'downvotes', 'approach', 'maddening', 'dont', 'know', 'noticed', 'scotland', 'seen', 'declining', 'case', 'counts', 'july', '4', 'children', 'actually', 'vaccine', 'shouldn', 't', 'lifting', 'restrictions', 'johnson', 'decided', 'let', 'rip', 'll', 'like', 'episode', 'black', 'mirror', 'wonder', 'people', 'think', 'alternative', 'continue', 'blotch', 'economy', 'tell', 'people', 'wearing', 'masks', 'sit', 'home', 'cop', 'fck', 'u', 'feel', 'ur', 'risk', 'sure', 'continue', 'live', 'inside', 'ur', 'bunker', 'vulnerable', 'need', 'vaccinated', 's', 'relatively', 'safe', 'pandemic', 'bs', 'couple', 'years', 'ppl', 'decisions', 's', 'safe', 'need', 'nanny', 'state', 'sit', 'home', 'years', 'billy', 'block', 'die', 'unknown', 'wrote', 'headline', 'living', 'cave', 'past', 'year', 'half', 'hospital', 'patients', 'https', 'ourworldindata', 'org', 'explorers', 'coronavirus', 'data', 'explorer', 'zoomtoselection', 'true', 'time', '2020', '03', '01', 'latest', 'pickersort', 'desc', 'pickermetric', 'new_cases_smoothed_per_million', 'metric', 'hospital', 'patients', 'interval', '7', 'day', 'rolling', 'average', 'relative', 'population', 'true', 'align', 'outbreaks', 'false', 'country', 'ind', 'gbr', 'deu', 'hospital', 'admissions', 'https', 'ourworldindata', 'org', 'explorers', 'coronavirus', 'data', 'explorer', 'zoomtoselection', 'true', 'time', '2020', '03', '01', 'latest', 'pickersort', 'desc', 'pickermetric', 'new_cases_smoothed_per_million', 'metric', 'hospital', 'admissions', 'interval', '7', 'day', 'rolling', 'average', 'relative', 'population', 'true', 'align', 'outbreaks', 'false', 'country', 'ind', 'gbr', 'icu', 'patients', 'https', 'ourworldindata', 'org', 'explorers', 'coronavirus', 'data', 'explorer', 'zoomtoselection', 'true', 'time', '2020', '03', '01', 'latest', 'pickersort', 'desc', 'pickermetric', 'new_cases_smoothed_per_million', 'metric', 'icu', 'patients', 'interval', '7', 'day', 'rolling', 'average', 'relative', 'population', 'true', 'align', 'outbreaks', 'false', 'country', 'ind', 'gbr', 'confirmed', 'deaths', 'https', 'ourworldindata', 'org', 'explorers', 'coronavirus', 'data', 'explorer', 'zoomtoselection', 'true', 'time', '2020', '03', '01', 'latest', 'pickersort', 'desc', 'pickermetric', 'new_cases_smoothed_per_million', 'metric', 'confirmed', 'deaths', 'interval', '7', 'day', 'rolling', 'average', 'relative', 'population', 'true', 'align', 'outbreaks', 'false', 'country', 'gbr', 'let', 's', 'hope', 'graphs', 'won', 't', 'high', 'weeks', 'waiting', 'second', 'dose', 'don', 't', 'think', 'll', 'stop', 'wearing', 'mask', 've', 'second', 'jab', 'covid', 'hospitalization', 'rising', 'https', 'ourworldindata', 'org', 'grapher', 'uk', 'daily', 'covid', 'admissions', 'upset', 'healthcare', 'worker', 'uk', 'remindme', '2', 'months', 'unknown', 'looking', 'crystal', 'ball', 'm', 'sure', 's', 'going', 'wave', 'infections', 'hospitalization', 'deaths', 'variant', 'bound', 'follow', 'leap', 'unknown', 'leap', 'icu', 'england', 'finds', 'clever', 'shoot', 'foot', 'standby', 'hindsight', 'shouldn', 't', 'reactions', 'english', 'pride', 'goes', 'long', 'way', 'man', 'numbers', 'find', 'ordeal', 'bit', 'surreal', 'initially', 'yes', 'reason', 'think', 'covid', 'going', 'hit', 'hard', 'fortunately', 'didn', 't', 'talking', 'numbers', 'inhumane', 'important', 'context', 'heart', 'attacks', 'kill', '18m', 'people', 'globally', 'year', 'cancer', 'kills', '10m', 'diarrhea', 'kills', 'people', 'year', 'covid', 'x200b', 'let', 'find', 'way', 'normalty', 'life', 'happened', 'netherlands', 'weeks', 'ago', 'think', 'uk', 'bad', 'trajectory', 'removed', 'think', 's', 'best', 'school', 'starts', 'things', 'south', 'lock', 'england', 'mad', 'uk', 'variant', 'isn', 't', 'dog', 'globally', 'anymore', 'wants', 'ensure', 'manufacture', 'worse', 'variant', 'deleted', 'boris', 'johnson', 'setting', 'great', 'example', 'quarantining', 'coming', 'contact', 'tested', 'positive', 'oh', 'oh', 'uk', 'gonna', 'cull', 'people', 'ok', 's', 'unusual', 'strategy', 'cotton', 'let', 's', 'works', 'uk', 'government', 'stupid', 'gonna', 'end', 'badly', '2', '3', 'weeks', 'sure', 've', 'seen', 'movie', '15', 'months', 'removed', 'unknown', 'don', 't', 'know', 'think', 'set', 'perfect', 'example', 'unfortunately', 'government', 'apt', 'listening', 'bench', 'mps', 'public', 'health', 'services', 'removed', 'ah', 'ol', 'fuck', 'ploy', 'm', 'sure', 'totally', 'predictable', 'results', 'unknown', 'bruh', 'literally', 'look', 'right', 'll', 'small', 'country', 'surging', 'cases', 'having', 'mi', 'nan', 'says', 'fook', 'covid', 'england', 'basically', 'saying', 'fck', 'll', 'unvaccinated', 'cautious', 'says', 'flood', 'opens', 'floodgates', 'man', 'takes', 'leap', 'unknown', 'pours', 'gasoline', 'open', 'flame', 'nearly', '2', 'years', 'certain', 'point', 'people', 'won', 't', 'tolerate', 'indefinite', 'restrictions', 'actually', 'agree', 'boris', 'u', 'don', 't', 'open', 'hear', 'stay', 'yr', 'going', 'eventually', 'let', 's', 'gasp', 's', 'fractions', 'deadly', 'common', 'flu', 'fucking', 'stupid', 'person', 'wrote', 'headline', 'unknown', 'kidding', 'good', 'scared', 'stay', 'box', 'unknown', 'iq', '20', 'good', 'luck', 'let', 'know', 'goes', 'removed', 'morons', 'reckless', 'worse', 'new', 'variant', 'born', 'find']\n"
          ],
          "name": "stdout"
        }
      ]
    },
    {
      "cell_type": "code",
      "metadata": {
        "colab": {
          "base_uri": "https://localhost:8080/"
        },
        "id": "h7frAQ29To1N",
        "outputId": "8468c72e-10eb-4e10-9485-8e79c739e6f8"
      },
      "source": [
        "import nltk\n",
        "nltk.download('wordnet')"
      ],
      "execution_count": 96,
      "outputs": [
        {
          "output_type": "stream",
          "text": [
            "[nltk_data] Downloading package wordnet to /root/nltk_data...\n",
            "[nltk_data]   Package wordnet is already up-to-date!\n"
          ],
          "name": "stdout"
        },
        {
          "output_type": "execute_result",
          "data": {
            "text/plain": [
              "True"
            ]
          },
          "metadata": {
            "tags": []
          },
          "execution_count": 96
        }
      ]
    },
    {
      "cell_type": "code",
      "metadata": {
        "colab": {
          "base_uri": "https://localhost:8080/"
        },
        "id": "E7uzpocATI6v",
        "outputId": "67beeb3a-7aab-4388-c9c4-f769fbeccddb"
      },
      "source": [
        "lemmatizer= WordNetLemmatizer()\n",
        "\n",
        "lemmatized_tokens=([lemmatizer.lemmatize(w) for w in tokens_without_sw])\n",
        "print(lemmatized_tokens)"
      ],
      "execution_count": 97,
      "outputs": [
        {
          "output_type": "stream",
          "text": [
            "['s', 'unknown', 'hasn', 't', 'paying', 'attention', 'pandemic', 'interesting', 'case', 'study', 'covid', 'younger', 'segment', 'population', 'disaster', 'break', 'panic', 'stem', 'news', 'covid', 'infection', 'death', 'remain', 'low', 'case', 'sky', 'rocket', 'perception', 'virus', 'shift', 'long', 'covid', 'fear', 'good', 'study', 'percentage', 'people', 'report', 'symptom', 'broken', 'age', 'demographic', 've', 'seen', 'report', 'general', 'figure', 'm', 'curious', 'detailed', 'information', 'gov', 'trying', 'push', 'final', 'surge', 'flu', 'season', 'start', 'autumn', 'flu', 'season', 'predicted', 'strong', 'year', 'little', 'immunity', 'lot', 'hospital', 'bed', 'idea', 'don', 't', 'want', 'dealing', 'covid', 'flu', 'uk', 'antibody', 'heavy', 'country', 'world', 'october', 'jab', 'infection', 's', 'actually', 'example', 'follow', 'world', 'vaccinate', 'open', 'number', 'case', 'mean', 'number', 'hospitalization', 'mean', 'gotta', 'learn', 'live', 'virus', 'everybody', 'vaccinated', 'vaccinated', 'got', 'life', 'live', 'y', 'people', 'need', 'chill', 'like', 'wtf', 'want', 'live', 'dystopian', 'world', 't', 'friend', 'family', 'fuck', 'vaccination', 'rate', 'high', 'yes', 'case', 'rising', 'look', 'concert', 'wimbledon', 'euro', 'living', 's', 'long', 'time', 'pre', 'covid', 'normal', 'semblance', 'going', 'britain', 's', 'ticket', 'pandemic', 'absolute', 'disaster', 'reported', 'unusually', 'low', 'number', 'new', 'case', 'today', '39', '950', 'comparison', 'day', 'ago', 'pushed', '54', '349', 'new', 'case', 'blip', 've', 'unexpected', 'hit', 'peak', 'remains', 'seen', 'd', 'like', 'cost', 'benefit', 'analysis', 'm', 'inclined', 'favour', 'eliminating', 'restriction', 'depends', 'answer', 'question', 'm', 'sure', 'like', 'likely', 'hospital', 'overwhelmed', 'likely', 'policy', 'cause', 'dangerous', 'new', 'variant', 'arising', 'people', 'value', 'freedom', 's', 'frustratingly', 'absent', 'discussion', 'obviously', 'keeping', 'tighter', 'restriction', 'likely', 'prevent', 'covid', 'case', 'death', 'good', 'trade', 'unknown', 'florida', 'texas', 'long', 'time', 'ago', 'nearly', 'entire', 'fully', 'open', 'sky', 'fallen', 'netherlands', 'saw', '20x', 'increase', 'new', 'case', '10', 'day', '500', 'day', '10', '500', 'day', 'currently', 'uk', 'currently', '50', '000', 'case', 'day', 'maybe', 'result', '20x', 'increase', 'rise', 'case', 'staggering', 'nonetheless', 'mild', 'case', 'recover', '2', 'week', 'people', 'end', 'hospital', 'mean', 'fine', 'party', 'going', 'brutal', 'guess', 'vaccine', 'hold', 'out', 'inoculated', 'getting', 'vaccinated', 'catching', 'covid', 'll', 'herd', 'immunity', 'far', 'death', 'haven', 't', 'spiked', 'vaccine', 'obviously', 'working', 'leant', 'england', 'past', 'week', 'brightest', 'folk', 'isn', 't', 'basically', 'm', 'sure', 'getting', 'pint', 'pub', 'worth', 'having', 'lung', 'turn', 'blood', 'pudding', 'don', 't', 'know', 'percentage', 'vaccinated', 'uk', 's', 'shouldn', 't', 'problem', 'oh', 'chrissake', 'downvotes', 'approach', 'maddening', 'dont', 'know', 'noticed', 'scotland', 'seen', 'declining', 'case', 'count', 'july', '4', 'child', 'actually', 'vaccine', 'shouldn', 't', 'lifting', 'restriction', 'johnson', 'decided', 'let', 'rip', 'll', 'like', 'episode', 'black', 'mirror', 'wonder', 'people', 'think', 'alternative', 'continue', 'blotch', 'economy', 'tell', 'people', 'wearing', 'mask', 'sit', 'home', 'cop', 'fck', 'u', 'feel', 'ur', 'risk', 'sure', 'continue', 'live', 'inside', 'ur', 'bunker', 'vulnerable', 'need', 'vaccinated', 's', 'relatively', 'safe', 'pandemic', 'b', 'couple', 'year', 'ppl', 'decision', 's', 'safe', 'need', 'nanny', 'state', 'sit', 'home', 'year', 'billy', 'block', 'die', 'unknown', 'wrote', 'headline', 'living', 'cave', 'past', 'year', 'half', 'hospital', 'patient', 'http', 'ourworldindata', 'org', 'explorer', 'coronavirus', 'data', 'explorer', 'zoomtoselection', 'true', 'time', '2020', '03', '01', 'latest', 'pickersort', 'desc', 'pickermetric', 'new_cases_smoothed_per_million', 'metric', 'hospital', 'patient', 'interval', '7', 'day', 'rolling', 'average', 'relative', 'population', 'true', 'align', 'outbreak', 'false', 'country', 'ind', 'gbr', 'deu', 'hospital', 'admission', 'http', 'ourworldindata', 'org', 'explorer', 'coronavirus', 'data', 'explorer', 'zoomtoselection', 'true', 'time', '2020', '03', '01', 'latest', 'pickersort', 'desc', 'pickermetric', 'new_cases_smoothed_per_million', 'metric', 'hospital', 'admission', 'interval', '7', 'day', 'rolling', 'average', 'relative', 'population', 'true', 'align', 'outbreak', 'false', 'country', 'ind', 'gbr', 'icu', 'patient', 'http', 'ourworldindata', 'org', 'explorer', 'coronavirus', 'data', 'explorer', 'zoomtoselection', 'true', 'time', '2020', '03', '01', 'latest', 'pickersort', 'desc', 'pickermetric', 'new_cases_smoothed_per_million', 'metric', 'icu', 'patient', 'interval', '7', 'day', 'rolling', 'average', 'relative', 'population', 'true', 'align', 'outbreak', 'false', 'country', 'ind', 'gbr', 'confirmed', 'death', 'http', 'ourworldindata', 'org', 'explorer', 'coronavirus', 'data', 'explorer', 'zoomtoselection', 'true', 'time', '2020', '03', '01', 'latest', 'pickersort', 'desc', 'pickermetric', 'new_cases_smoothed_per_million', 'metric', 'confirmed', 'death', 'interval', '7', 'day', 'rolling', 'average', 'relative', 'population', 'true', 'align', 'outbreak', 'false', 'country', 'gbr', 'let', 's', 'hope', 'graph', 'won', 't', 'high', 'week', 'waiting', 'second', 'dose', 'don', 't', 'think', 'll', 'stop', 'wearing', 'mask', 've', 'second', 'jab', 'covid', 'hospitalization', 'rising', 'http', 'ourworldindata', 'org', 'grapher', 'uk', 'daily', 'covid', 'admission', 'upset', 'healthcare', 'worker', 'uk', 'remindme', '2', 'month', 'unknown', 'looking', 'crystal', 'ball', 'm', 'sure', 's', 'going', 'wave', 'infection', 'hospitalization', 'death', 'variant', 'bound', 'follow', 'leap', 'unknown', 'leap', 'icu', 'england', 'find', 'clever', 'shoot', 'foot', 'standby', 'hindsight', 'shouldn', 't', 'reaction', 'english', 'pride', 'go', 'long', 'way', 'man', 'number', 'find', 'ordeal', 'bit', 'surreal', 'initially', 'yes', 'reason', 'think', 'covid', 'going', 'hit', 'hard', 'fortunately', 'didn', 't', 'talking', 'number', 'inhumane', 'important', 'context', 'heart', 'attack', 'kill', '18m', 'people', 'globally', 'year', 'cancer', 'kill', '10m', 'diarrhea', 'kill', 'people', 'year', 'covid', 'x200b', 'let', 'find', 'way', 'normalty', 'life', 'happened', 'netherlands', 'week', 'ago', 'think', 'uk', 'bad', 'trajectory', 'removed', 'think', 's', 'best', 'school', 'start', 'thing', 'south', 'lock', 'england', 'mad', 'uk', 'variant', 'isn', 't', 'dog', 'globally', 'anymore', 'want', 'ensure', 'manufacture', 'worse', 'variant', 'deleted', 'boris', 'johnson', 'setting', 'great', 'example', 'quarantining', 'coming', 'contact', 'tested', 'positive', 'oh', 'oh', 'uk', 'gonna', 'cull', 'people', 'ok', 's', 'unusual', 'strategy', 'cotton', 'let', 's', 'work', 'uk', 'government', 'stupid', 'gonna', 'end', 'badly', '2', '3', 'week', 'sure', 've', 'seen', 'movie', '15', 'month', 'removed', 'unknown', 'don', 't', 'know', 'think', 'set', 'perfect', 'example', 'unfortunately', 'government', 'apt', 'listening', 'bench', 'mp', 'public', 'health', 'service', 'removed', 'ah', 'ol', 'fuck', 'ploy', 'm', 'sure', 'totally', 'predictable', 'result', 'unknown', 'bruh', 'literally', 'look', 'right', 'll', 'small', 'country', 'surging', 'case', 'having', 'mi', 'nan', 'say', 'fook', 'covid', 'england', 'basically', 'saying', 'fck', 'll', 'unvaccinated', 'cautious', 'say', 'flood', 'open', 'floodgate', 'man', 'take', 'leap', 'unknown', 'pours', 'gasoline', 'open', 'flame', 'nearly', '2', 'year', 'certain', 'point', 'people', 'won', 't', 'tolerate', 'indefinite', 'restriction', 'actually', 'agree', 'boris', 'u', 'don', 't', 'open', 'hear', 'stay', 'yr', 'going', 'eventually', 'let', 's', 'gasp', 's', 'fraction', 'deadly', 'common', 'flu', 'fucking', 'stupid', 'person', 'wrote', 'headline', 'unknown', 'kidding', 'good', 'scared', 'stay', 'box', 'unknown', 'iq', '20', 'good', 'luck', 'let', 'know', 'go', 'removed', 'moron', 'reckless', 'worse', 'new', 'variant', 'born', 'find']\n"
          ],
          "name": "stdout"
        }
      ]
    },
    {
      "cell_type": "code",
      "metadata": {
        "colab": {
          "base_uri": "https://localhost:8080/"
        },
        "id": "VejdQiaxTZjk",
        "outputId": "230b9e6a-8e9e-4ed5-a577-ee26a1668357"
      },
      "source": [
        "stemmer = PorterStemmer()\n",
        "stem_tokens=([stemmer.stem(s) for s in tokens_without_sw])\n",
        "\n",
        "cleaned_output= lemmatized_tokens\n",
        "print('Original lenght words =',(len(string_uncleaned)))\n",
        "print(\"Number of words after removing tokenizing =\", (len(tokenized_string)))\n",
        "print(\"Number of words for final output\", len(cleaned_output))"
      ],
      "execution_count": 98,
      "outputs": [
        {
          "output_type": "stream",
          "text": [
            "Original lenght words = 9287\n",
            "Number of words after removing tokenizing = 1635\n",
            "Number of words for final output 861\n"
          ],
          "name": "stdout"
        }
      ]
    },
    {
      "cell_type": "code",
      "metadata": {
        "colab": {
          "base_uri": "https://localhost:8080/"
        },
        "id": "98-LDBjNT1Sm",
        "outputId": "181af70c-0f6a-435e-d451-e0c35bb4335a"
      },
      "source": [
        "from nltk.sentiment.vader import SentimentIntensityAnalyzer as SIA \n",
        "import nltk\n",
        "nltk.download('vader_lexicon')\n",
        "nltk.download('movie_reviews')\n",
        "nltk.download('punkt')"
      ],
      "execution_count": 99,
      "outputs": [
        {
          "output_type": "stream",
          "text": [
            "[nltk_data] Downloading package vader_lexicon to /root/nltk_data...\n",
            "[nltk_data]   Package vader_lexicon is already up-to-date!\n",
            "[nltk_data] Downloading package movie_reviews to /root/nltk_data...\n",
            "[nltk_data]   Package movie_reviews is already up-to-date!\n",
            "[nltk_data] Downloading package punkt to /root/nltk_data...\n",
            "[nltk_data]   Package punkt is already up-to-date!\n"
          ],
          "name": "stdout"
        },
        {
          "output_type": "execute_result",
          "data": {
            "text/plain": [
              "True"
            ]
          },
          "metadata": {
            "tags": []
          },
          "execution_count": 99
        }
      ]
    },
    {
      "cell_type": "code",
      "metadata": {
        "id": "dqha0F4nVLu5"
      },
      "source": [
        "sia = SIA()\n",
        "result=[]\n",
        "\n",
        "for sentences in cleaned_output:\n",
        "  pol_score = sia.polarity_scores(sentences)\n",
        "  pol_score['words'] = sentences\n",
        "  result.append(pol_score)\n"
      ],
      "execution_count": 100,
      "outputs": []
    },
    {
      "cell_type": "code",
      "metadata": {
        "id": "z4pfUrKOVO3d"
      },
      "source": [
        "import pandas as pd"
      ],
      "execution_count": 101,
      "outputs": []
    },
    {
      "cell_type": "code",
      "metadata": {
        "id": "vgnbpFQHWCG9"
      },
      "source": [
        "pd.set_option('display.max_column', None, 'max_colwidth',None)"
      ],
      "execution_count": 102,
      "outputs": []
    },
    {
      "cell_type": "code",
      "metadata": {
        "id": "5Jg55_sfWnWU"
      },
      "source": [
        "df =pd.DataFrame.from_records(result)"
      ],
      "execution_count": 103,
      "outputs": []
    },
    {
      "cell_type": "code",
      "metadata": {
        "colab": {
          "base_uri": "https://localhost:8080/",
          "height": 418
        },
        "id": "GEN0Eaq_Wsdq",
        "outputId": "d9388184-7f2e-4ef1-90d8-ffd57a677f1b"
      },
      "source": [
        "df"
      ],
      "execution_count": 104,
      "outputs": [
        {
          "output_type": "execute_result",
          "data": {
            "text/html": [
              "<div>\n",
              "<style scoped>\n",
              "    .dataframe tbody tr th:only-of-type {\n",
              "        vertical-align: middle;\n",
              "    }\n",
              "\n",
              "    .dataframe tbody tr th {\n",
              "        vertical-align: top;\n",
              "    }\n",
              "\n",
              "    .dataframe thead th {\n",
              "        text-align: right;\n",
              "    }\n",
              "</style>\n",
              "<table border=\"1\" class=\"dataframe\">\n",
              "  <thead>\n",
              "    <tr style=\"text-align: right;\">\n",
              "      <th></th>\n",
              "      <th>neg</th>\n",
              "      <th>neu</th>\n",
              "      <th>pos</th>\n",
              "      <th>compound</th>\n",
              "      <th>words</th>\n",
              "    </tr>\n",
              "  </thead>\n",
              "  <tbody>\n",
              "    <tr>\n",
              "      <th>0</th>\n",
              "      <td>0.0</td>\n",
              "      <td>0.0</td>\n",
              "      <td>0.0</td>\n",
              "      <td>0.0000</td>\n",
              "      <td>s</td>\n",
              "    </tr>\n",
              "    <tr>\n",
              "      <th>1</th>\n",
              "      <td>0.0</td>\n",
              "      <td>1.0</td>\n",
              "      <td>0.0</td>\n",
              "      <td>0.0000</td>\n",
              "      <td>unknown</td>\n",
              "    </tr>\n",
              "    <tr>\n",
              "      <th>2</th>\n",
              "      <td>0.0</td>\n",
              "      <td>1.0</td>\n",
              "      <td>0.0</td>\n",
              "      <td>0.0000</td>\n",
              "      <td>hasn</td>\n",
              "    </tr>\n",
              "    <tr>\n",
              "      <th>3</th>\n",
              "      <td>0.0</td>\n",
              "      <td>0.0</td>\n",
              "      <td>0.0</td>\n",
              "      <td>0.0000</td>\n",
              "      <td>t</td>\n",
              "    </tr>\n",
              "    <tr>\n",
              "      <th>4</th>\n",
              "      <td>0.0</td>\n",
              "      <td>1.0</td>\n",
              "      <td>0.0</td>\n",
              "      <td>0.0000</td>\n",
              "      <td>paying</td>\n",
              "    </tr>\n",
              "    <tr>\n",
              "      <th>...</th>\n",
              "      <td>...</td>\n",
              "      <td>...</td>\n",
              "      <td>...</td>\n",
              "      <td>...</td>\n",
              "      <td>...</td>\n",
              "    </tr>\n",
              "    <tr>\n",
              "      <th>856</th>\n",
              "      <td>1.0</td>\n",
              "      <td>0.0</td>\n",
              "      <td>0.0</td>\n",
              "      <td>-0.4767</td>\n",
              "      <td>worse</td>\n",
              "    </tr>\n",
              "    <tr>\n",
              "      <th>857</th>\n",
              "      <td>0.0</td>\n",
              "      <td>1.0</td>\n",
              "      <td>0.0</td>\n",
              "      <td>0.0000</td>\n",
              "      <td>new</td>\n",
              "    </tr>\n",
              "    <tr>\n",
              "      <th>858</th>\n",
              "      <td>0.0</td>\n",
              "      <td>1.0</td>\n",
              "      <td>0.0</td>\n",
              "      <td>0.0000</td>\n",
              "      <td>variant</td>\n",
              "    </tr>\n",
              "    <tr>\n",
              "      <th>859</th>\n",
              "      <td>0.0</td>\n",
              "      <td>1.0</td>\n",
              "      <td>0.0</td>\n",
              "      <td>0.0000</td>\n",
              "      <td>born</td>\n",
              "    </tr>\n",
              "    <tr>\n",
              "      <th>860</th>\n",
              "      <td>0.0</td>\n",
              "      <td>1.0</td>\n",
              "      <td>0.0</td>\n",
              "      <td>0.0000</td>\n",
              "      <td>find</td>\n",
              "    </tr>\n",
              "  </tbody>\n",
              "</table>\n",
              "<p>861 rows × 5 columns</p>\n",
              "</div>"
            ],
            "text/plain": [
              "     neg  neu  pos  compound    words\n",
              "0    0.0  0.0  0.0    0.0000        s\n",
              "1    0.0  1.0  0.0    0.0000  unknown\n",
              "2    0.0  1.0  0.0    0.0000     hasn\n",
              "3    0.0  0.0  0.0    0.0000        t\n",
              "4    0.0  1.0  0.0    0.0000   paying\n",
              "..   ...  ...  ...       ...      ...\n",
              "856  1.0  0.0  0.0   -0.4767    worse\n",
              "857  0.0  1.0  0.0    0.0000      new\n",
              "858  0.0  1.0  0.0    0.0000  variant\n",
              "859  0.0  1.0  0.0    0.0000     born\n",
              "860  0.0  1.0  0.0    0.0000     find\n",
              "\n",
              "[861 rows x 5 columns]"
            ]
          },
          "metadata": {
            "tags": []
          },
          "execution_count": 104
        }
      ]
    },
    {
      "cell_type": "code",
      "metadata": {
        "colab": {
          "base_uri": "https://localhost:8080/",
          "height": 204
        },
        "id": "3tWyROO6WtQi",
        "outputId": "2e21802c-32e2-4fae-c5a5-4ddaba5f8820"
      },
      "source": [
        "df['label']=0\n",
        "df.loc[df['compound']>0.50, 'label']= 1\n",
        "df.loc[df['compound']<-0.80, 'label']= 1\n",
        "df.head()"
      ],
      "execution_count": 156,
      "outputs": [
        {
          "output_type": "execute_result",
          "data": {
            "text/html": [
              "<div>\n",
              "<style scoped>\n",
              "    .dataframe tbody tr th:only-of-type {\n",
              "        vertical-align: middle;\n",
              "    }\n",
              "\n",
              "    .dataframe tbody tr th {\n",
              "        vertical-align: top;\n",
              "    }\n",
              "\n",
              "    .dataframe thead th {\n",
              "        text-align: right;\n",
              "    }\n",
              "</style>\n",
              "<table border=\"1\" class=\"dataframe\">\n",
              "  <thead>\n",
              "    <tr style=\"text-align: right;\">\n",
              "      <th></th>\n",
              "      <th>neg</th>\n",
              "      <th>neu</th>\n",
              "      <th>pos</th>\n",
              "      <th>compound</th>\n",
              "      <th>words</th>\n",
              "      <th>label</th>\n",
              "    </tr>\n",
              "  </thead>\n",
              "  <tbody>\n",
              "    <tr>\n",
              "      <th>0</th>\n",
              "      <td>0.0</td>\n",
              "      <td>0.0</td>\n",
              "      <td>0.0</td>\n",
              "      <td>0.0</td>\n",
              "      <td>s</td>\n",
              "      <td>0</td>\n",
              "    </tr>\n",
              "    <tr>\n",
              "      <th>1</th>\n",
              "      <td>0.0</td>\n",
              "      <td>1.0</td>\n",
              "      <td>0.0</td>\n",
              "      <td>0.0</td>\n",
              "      <td>unknown</td>\n",
              "      <td>0</td>\n",
              "    </tr>\n",
              "    <tr>\n",
              "      <th>2</th>\n",
              "      <td>0.0</td>\n",
              "      <td>1.0</td>\n",
              "      <td>0.0</td>\n",
              "      <td>0.0</td>\n",
              "      <td>hasn</td>\n",
              "      <td>0</td>\n",
              "    </tr>\n",
              "    <tr>\n",
              "      <th>3</th>\n",
              "      <td>0.0</td>\n",
              "      <td>0.0</td>\n",
              "      <td>0.0</td>\n",
              "      <td>0.0</td>\n",
              "      <td>t</td>\n",
              "      <td>0</td>\n",
              "    </tr>\n",
              "    <tr>\n",
              "      <th>4</th>\n",
              "      <td>0.0</td>\n",
              "      <td>1.0</td>\n",
              "      <td>0.0</td>\n",
              "      <td>0.0</td>\n",
              "      <td>paying</td>\n",
              "      <td>0</td>\n",
              "    </tr>\n",
              "  </tbody>\n",
              "</table>\n",
              "</div>"
            ],
            "text/plain": [
              "   neg  neu  pos  compound    words  label\n",
              "0  0.0  0.0  0.0       0.0        s      0\n",
              "1  0.0  1.0  0.0       0.0  unknown      0\n",
              "2  0.0  1.0  0.0       0.0     hasn      0\n",
              "3  0.0  0.0  0.0       0.0        t      0\n",
              "4  0.0  1.0  0.0       0.0   paying      0"
            ]
          },
          "metadata": {
            "tags": []
          },
          "execution_count": 156
        }
      ]
    },
    {
      "cell_type": "code",
      "metadata": {
        "colab": {
          "base_uri": "https://localhost:8080/"
        },
        "id": "MUprJbsQWzkh",
        "outputId": "d969ec26-658e-4e35-e422-03ac569a5589"
      },
      "source": [
        "df.label.value_counts()"
      ],
      "execution_count": 157,
      "outputs": [
        {
          "output_type": "execute_result",
          "data": {
            "text/plain": [
              "0    852\n",
              "1      9\n",
              "Name: label, dtype: int64"
            ]
          },
          "metadata": {
            "tags": []
          },
          "execution_count": 157
        }
      ]
    },
    {
      "cell_type": "code",
      "metadata": {
        "colab": {
          "base_uri": "https://localhost:8080/",
          "height": 483
        },
        "id": "DQRiYvNKXGNY",
        "outputId": "d839028e-e88b-4910-ee82-0eb9da56e1fa"
      },
      "source": [
        "import seaborn as sns\n",
        "import matplotlib.pyplot as plt\n",
        "\n",
        "fig, ax= plt.subplots(figsize=(8,8))\n",
        "counts = df.label.value_counts(normalize=True)*100\n",
        "sns.barplot(x=counts.index, y= counts, ax=ax)\n",
        "ax.set_xticklabels(['Negative','Neutral','Positive'])\n",
        "ax.set_ylabel(\"Percentage\")\n",
        "plt.show()"
      ],
      "execution_count": 158,
      "outputs": [
        {
          "output_type": "display_data",
          "data": {
            "image/png": "[encoded data removed]",
            "text/plain": [
              "<Figure size 576x576 with 1 Axes>"
            ]
          },
          "metadata": {
            "tags": [],
            "needs_background": "light"
          }
        }
      ]
    },
    {
      "cell_type": "code",
      "metadata": {
        "colab": {
          "base_uri": "https://localhost:8080/",
          "height": 204
        },
        "id": "Wwr5Fc2JXT-h",
        "outputId": "7033e3fc-dfb5-42d5-82f7-01fd28b1c8c9"
      },
      "source": [
        "df_positive_negative = df.loc[df['label']==1]\n",
        "df_positive_negative.head()"
      ],
      "execution_count": 159,
      "outputs": [
        {
          "output_type": "execute_result",
          "data": {
            "text/html": [
              "<div>\n",
              "<style scoped>\n",
              "    .dataframe tbody tr th:only-of-type {\n",
              "        vertical-align: middle;\n",
              "    }\n",
              "\n",
              "    .dataframe tbody tr th {\n",
              "        vertical-align: top;\n",
              "    }\n",
              "\n",
              "    .dataframe thead th {\n",
              "        text-align: right;\n",
              "    }\n",
              "</style>\n",
              "<table border=\"1\" class=\"dataframe\">\n",
              "  <thead>\n",
              "    <tr style=\"text-align: right;\">\n",
              "      <th></th>\n",
              "      <th>neg</th>\n",
              "      <th>neu</th>\n",
              "      <th>pos</th>\n",
              "      <th>compound</th>\n",
              "      <th>words</th>\n",
              "      <th>label</th>\n",
              "    </tr>\n",
              "  </thead>\n",
              "  <tbody>\n",
              "    <tr>\n",
              "      <th>63</th>\n",
              "      <td>0.0</td>\n",
              "      <td>0.0</td>\n",
              "      <td>1.0</td>\n",
              "      <td>0.5106</td>\n",
              "      <td>strong</td>\n",
              "      <td>1</td>\n",
              "    </tr>\n",
              "    <tr>\n",
              "      <th>199</th>\n",
              "      <td>0.0</td>\n",
              "      <td>0.0</td>\n",
              "      <td>1.0</td>\n",
              "      <td>0.6369</td>\n",
              "      <td>freedom</td>\n",
              "      <td>1</td>\n",
              "    </tr>\n",
              "    <tr>\n",
              "      <th>292</th>\n",
              "      <td>0.0</td>\n",
              "      <td>0.0</td>\n",
              "      <td>1.0</td>\n",
              "      <td>0.6124</td>\n",
              "      <td>brightest</td>\n",
              "      <td>1</td>\n",
              "    </tr>\n",
              "    <tr>\n",
              "      <th>557</th>\n",
              "      <td>0.0</td>\n",
              "      <td>0.0</td>\n",
              "      <td>1.0</td>\n",
              "      <td>0.5719</td>\n",
              "      <td>won</td>\n",
              "      <td>1</td>\n",
              "    </tr>\n",
              "    <tr>\n",
              "      <th>680</th>\n",
              "      <td>0.0</td>\n",
              "      <td>0.0</td>\n",
              "      <td>1.0</td>\n",
              "      <td>0.6369</td>\n",
              "      <td>best</td>\n",
              "      <td>1</td>\n",
              "    </tr>\n",
              "  </tbody>\n",
              "</table>\n",
              "</div>"
            ],
            "text/plain": [
              "     neg  neu  pos  compound      words  label\n",
              "63   0.0  0.0  1.0    0.5106     strong      1\n",
              "199  0.0  0.0  1.0    0.6369    freedom      1\n",
              "292  0.0  0.0  1.0    0.6124  brightest      1\n",
              "557  0.0  0.0  1.0    0.5719        won      1\n",
              "680  0.0  0.0  1.0    0.6369       best      1"
            ]
          },
          "metadata": {
            "tags": []
          },
          "execution_count": 159
        }
      ]
    },
    {
      "cell_type": "code",
      "metadata": {
        "colab": {
          "base_uri": "https://localhost:8080/"
        },
        "id": "yK5YPmQjYDGY",
        "outputId": "afae7509-2d94-4ea3-a3ab-57a12b9ab4e7"
      },
      "source": [
        "positive_words= list(df.loc[df['label']==1].words)\n",
        "positive_freq= FreqDist(positive_words)\n",
        "pos_freq= positive_freq.most_common(20)\n",
        "print(df_positive_negative.label.value_counts())\n",
        "pos_words= [str(p) for p in pos_freq]\n",
        "pos_words_string=\" , \".join(pos_words)\n",
        "\n",
        "pos_freq"
      ],
      "execution_count": 167,
      "outputs": [
        {
          "output_type": "stream",
          "text": [
            "1    9\n",
            "Name: label, dtype: int64\n"
          ],
          "name": "stdout"
        },
        {
          "output_type": "execute_result",
          "data": {
            "text/plain": [
              "[('won', 2),\n",
              " ('strong', 1),\n",
              " ('freedom', 1),\n",
              " ('brightest', 1),\n",
              " ('best', 1),\n",
              " ('great', 1),\n",
              " ('positive', 1),\n",
              " ('perfect', 1)]"
            ]
          },
          "metadata": {
            "tags": []
          },
          "execution_count": 167
        }
      ]
    },
    {
      "cell_type": "code",
      "metadata": {
        "colab": {
          "base_uri": "https://localhost:8080/",
          "height": 198
        },
        "id": "TGxfXF-4cMFl",
        "outputId": "f07bb9c2-2d01-4898-f1ca-5d2025716ea4"
      },
      "source": [
        "from wordcloud import WordCloud\n",
        "import matplotlib.pyplot as plt\n",
        "\n",
        "wordcloud_positive=WordCloud(background_color='white').generate(pos_words_string)\n",
        "plt.imshow(wordcloud_positive, interpolation='bilinear')\n",
        "plt.axis(\"off\")\n",
        "plt.show()"
      ],
      "execution_count": 171,
      "outputs": [
        {
          "output_type": "display_data",
          "data": {
            "image/png": "[encoded data removed]",
            "text/plain": [
              "<Figure size 432x288 with 1 Axes>"
            ]
          },
          "metadata": {
            "tags": [],
            "needs_background": "light"
          }
        }
      ]
    },
    {
      "cell_type": "code",
      "metadata": {
        "id": "l5MX5qzueH02"
      },
      "source": [
        ""
      ],
      "execution_count": null,
      "outputs": []
    },
    {
      "cell_type": "code",
      "metadata": {
        "id": "pw0OHYBRYOJq"
      },
      "source": [
        "#fig, ax= plt.subplots(figsize=(8,8))\n",
        "#counts = df_positive_negative.label.value_counts(normalize=True)*100\n",
        "#sns.barplot(x=counts.index, y= counts, ax=ax)\n",
        "#ax.set_xticklabels(['Negative','Neutral','Positive'])\n",
        "#ax.set_ylabel(\"Percentage\")\n",
        "#plt.show()"
      ],
      "execution_count": 161,
      "outputs": []
    },
    {
      "cell_type": "code",
      "metadata": {
        "id": "kStQts22ZlQl"
      },
      "source": [
        ""
      ],
      "execution_count": null,
      "outputs": []
    }
  ]
}